{
  "nbformat": 4,
  "nbformat_minor": 0,
  "metadata": {
    "colab": {
      "provenance": [],
      "toc_visible": true,
      "authorship_tag": "ABX9TyMfHDyuqsXN+fPdAeQPX1OC",
      "include_colab_link": true
    },
    "kernelspec": {
      "name": "python3",
      "display_name": "Python 3"
    },
    "language_info": {
      "name": "python"
    }
  },
  "cells": [
    {
      "cell_type": "markdown",
      "metadata": {
        "id": "view-in-github",
        "colab_type": "text"
      },
      "source": [
        "<a href=\"https://colab.research.google.com/github/AntoineGaton/CTU/blob/main/Chronic_Kidney_Disease_Prediction.ipynb\" target=\"_parent\"><img src=\"https://colab.research.google.com/assets/colab-badge.svg\" alt=\"Open In Colab\"/></a>"
      ]
    },
    {
      "cell_type": "code",
      "source": [
        "pip install ucimlrepo"
      ],
      "metadata": {
        "colab": {
          "base_uri": "https://localhost:8080/"
        },
        "id": "0arh6Fm6eoXE",
        "outputId": "858eb9e8-6340-49d0-9574-aa1bc1e2bced"
      },
      "execution_count": 1,
      "outputs": [
        {
          "output_type": "stream",
          "name": "stdout",
          "text": [
            "Collecting ucimlrepo\n",
            "  Downloading ucimlrepo-0.0.7-py3-none-any.whl.metadata (5.5 kB)\n",
            "Requirement already satisfied: pandas>=1.0.0 in /usr/local/lib/python3.10/dist-packages (from ucimlrepo) (2.2.2)\n",
            "Requirement already satisfied: certifi>=2020.12.5 in /usr/local/lib/python3.10/dist-packages (from ucimlrepo) (2024.8.30)\n",
            "Requirement already satisfied: numpy>=1.22.4 in /usr/local/lib/python3.10/dist-packages (from pandas>=1.0.0->ucimlrepo) (1.26.4)\n",
            "Requirement already satisfied: python-dateutil>=2.8.2 in /usr/local/lib/python3.10/dist-packages (from pandas>=1.0.0->ucimlrepo) (2.8.2)\n",
            "Requirement already satisfied: pytz>=2020.1 in /usr/local/lib/python3.10/dist-packages (from pandas>=1.0.0->ucimlrepo) (2024.2)\n",
            "Requirement already satisfied: tzdata>=2022.7 in /usr/local/lib/python3.10/dist-packages (from pandas>=1.0.0->ucimlrepo) (2024.2)\n",
            "Requirement already satisfied: six>=1.5 in /usr/local/lib/python3.10/dist-packages (from python-dateutil>=2.8.2->pandas>=1.0.0->ucimlrepo) (1.16.0)\n",
            "Downloading ucimlrepo-0.0.7-py3-none-any.whl (8.0 kB)\n",
            "Installing collected packages: ucimlrepo\n",
            "Successfully installed ucimlrepo-0.0.7\n"
          ]
        }
      ]
    },
    {
      "cell_type": "code",
      "source": [
        "'''\n",
        "Name: Antoine Gaton\n",
        "Date: October 20, 2024\n",
        "Course: CS379\n",
        "Description: This Python script implements a machine learning solution for predicting chronic kidney disease using logistic regression. It fetches the Chronic Kidney Disease dataset from the UCI Machine Learning Repository, preprocesses the data, trains a logistic regression model, and evaluates its performance. The script also includes visualizations of the confusion matrix and feature importance to aid in interpreting the results.\n",
        "GitHub Link: https://github.com/AntoineGaton/CTU/blob/3f0a2c2f9e3ad194dcdf2ce93293e6070d353162/Titanic%20Dataset%20Analysis.ipynb\n",
        "'''\n",
        "\n",
        "# Import necessary libraries\n",
        "import pandas as pd  # For data manipulation and analysis\n",
        "import numpy as np  # For numerical operations\n",
        "from ucimlrepo import fetch_ucirepo  # To fetch datasets from UCI Machine Learning Repository\n",
        "from sklearn.model_selection import train_test_split  # For splitting data into training and testing sets\n",
        "from sklearn.preprocessing import StandardScaler  # For feature scaling\n",
        "from sklearn.impute import SimpleImputer  # For handling missing values\n",
        "from sklearn.linear_model import LogisticRegression  # Our machine learning model\n",
        "from sklearn.metrics import accuracy_score, classification_report, confusion_matrix  # For model evaluation\n",
        "import matplotlib.pyplot as plt  # For creating static plots\n",
        "import seaborn as sns  # For creating statistical graphics\n",
        "from rich.console import Console  # For creating rich text and beautiful formatting in the terminal\n",
        "from rich.table import Table  # For creating tables in the terminal\n",
        "from rich.panel import Panel  # For creating panels in the terminal\n",
        "from rich.text import Text  # For styling text in the terminal\n",
        "from google.colab import files\n",
        "\n",
        "\n",
        "# Initialize Rich console for pretty printing\n",
        "console = Console()\n",
        "\n",
        "# Fetch the Chronic Kidney Disease dataset from UCI Machine Learning Repository\n",
        "# This dataset contains various medical predictors and a target variable indicating the presence of kidney disease\n",
        "chronic_kidney_disease = fetch_ucirepo(id=336)\n",
        "\n",
        "# Extract features (X) and target variable (y) from the dataset\n",
        "# Features are the input variables we'll use to predict the target\n",
        "X = chronic_kidney_disease.data.features.copy()  # Create a copy to avoid modifying the original data\n",
        "y = chronic_kidney_disease.data.targets.copy()\n",
        "\n",
        "# Print dataset metadata\n",
        "console.print(Panel.fit(\"[bold cyan]Dataset Metadata\", style=\"cyan\"))\n",
        "console.print(chronic_kidney_disease.metadata)\n",
        "\n",
        "# Print information about each variable in the dataset\n",
        "console.print(Panel.fit(\"[bold cyan]Variable Information\", style=\"cyan\"))\n",
        "table = Table(show_header=True, header_style=\"bold magenta\")\n",
        "for col in chronic_kidney_disease.variables.columns:\n",
        "    table.add_column(col, style=\"dim\")\n",
        "for _, row in chronic_kidney_disease.variables.iterrows():\n",
        "    table.add_row(*[str(x) for x in row])\n",
        "console.print(table)\n",
        "\n",
        "# Preprocess the data\n",
        "# Convert categorical variables to numeric\n",
        "# Machine learning models require numerical input, so we need to encode categorical variables\n",
        "categorical_columns = X.select_dtypes(include=['object']).columns\n",
        "for col in categorical_columns:\n",
        "    X.loc[:, col] = pd.Categorical(X[col]).codes\n",
        "\n",
        "# Handle missing values\n",
        "# We'll use mean imputation, which replaces missing values with the mean of the column\n",
        "imputer = SimpleImputer(strategy='mean')\n",
        "X_imputed = pd.DataFrame(imputer.fit_transform(X), columns=X.columns)\n",
        "\n",
        "# Split the data into training and testing sets\n",
        "# This allows us to evaluate our model on data it hasn't seen during training\n",
        "X_train, X_test, y_train, y_test = train_test_split(X_imputed, y, test_size=0.2, random_state=42)\n",
        "\n",
        "# Scale the features\n",
        "# This ensures that all features are on a similar scale, which is important for many machine learning algorithms\n",
        "scaler = StandardScaler()\n",
        "X_train_scaled = scaler.fit_transform(X_train)\n",
        "X_test_scaled = scaler.transform(X_test)\n",
        "\n",
        "# Create and train the logistic regression model\n",
        "# Logistic regression is a good starting point for binary classification problems\n",
        "model = LogisticRegression(random_state=42)\n",
        "model.fit(X_train_scaled, y_train.values.ravel())\n",
        "\n",
        "# Make predictions on the test set\n",
        "y_pred = model.predict(X_test_scaled)\n",
        "\n",
        "# Calculate accuracy\n",
        "# Accuracy is the proportion of correct predictions (both true positives and true negatives) among the total number of cases examined\n",
        "accuracy = accuracy_score(y_test, y_pred)\n",
        "console.print(Panel(f\"[bold green]Accuracy: {accuracy:.2f}\", expand=False))\n",
        "\n",
        "# Print classification report\n",
        "# This report shows the main classification metrics for each class\n",
        "console.print(Panel.fit(\"[bold cyan]Classification Report\", style=\"cyan\"))\n",
        "report = classification_report(y_test, y_pred, output_dict=True)\n",
        "table = Table(show_header=True, header_style=\"bold magenta\")\n",
        "table.add_column(\"Class\", style=\"dim\")\n",
        "table.add_column(\"Precision\", style=\"dim\")\n",
        "table.add_column(\"Recall\", style=\"dim\")\n",
        "table.add_column(\"F1-score\", style=\"dim\")\n",
        "table.add_column(\"Support\", style=\"dim\")\n",
        "for class_name, metrics in report.items():\n",
        "    if class_name not in ['accuracy', 'macro avg', 'weighted avg']:\n",
        "        table.add_row(\n",
        "            class_name,\n",
        "            f\"{metrics['precision']:.2f}\",\n",
        "            f\"{metrics['recall']:.2f}\",\n",
        "            f\"{metrics['f1-score']:.2f}\",\n",
        "            str(metrics['support'])\n",
        "        )\n",
        "console.print(table)\n",
        "\n",
        "# Create confusion matrix\n",
        "cm = confusion_matrix(y_test, y_pred)\n",
        "plt.figure(figsize=(8, 6))\n",
        "sns.heatmap(cm, annot=True, fmt='d', cmap='Blues')\n",
        "plt.title('Confusion Matrix')\n",
        "plt.xlabel('Predicted')\n",
        "plt.ylabel('Actual')\n",
        "plt.savefig('confusion_matrix.png')\n",
        "plt.close()\n",
        "\n",
        "# Calculate and visualize feature importance\n",
        "feature_importance = pd.DataFrame({\n",
        "    'feature': X.columns,\n",
        "    'importance': abs(model.coef_[0])\n",
        "})\n",
        "feature_importance = feature_importance.sort_values('importance', ascending=False)\n",
        "\n",
        "plt.figure(figsize=(10, 6))\n",
        "sns.barplot(x='importance', y='feature', data=feature_importance)\n",
        "plt.title('Feature Importance')\n",
        "plt.xlabel('Absolute Coefficient Value')\n",
        "plt.tight_layout()\n",
        "plt.savefig('feature_importance.png')\n",
        "plt.close()\n",
        "\n",
        "# Display the saved images in Colab\n",
        "from IPython.display import Image, display\n",
        "\n",
        "console.print(Panel.fit(\"[bold green]Displaying saved visualizations\", style=\"green\"))\n",
        "\n",
        "console.print(\"[cyan]Confusion Matrix:[/cyan]\")\n",
        "display(Image(filename='confusion_matrix.png'))\n",
        "\n",
        "console.print(\"[cyan]Feature Importance:[/cyan]\")\n",
        "display(Image(filename='feature_importance.png'))"
      ],
      "metadata": {
        "colab": {
          "base_uri": "https://localhost:8080/",
          "height": 1000
        },
        "id": "PyjluaczetVj",
        "outputId": "4a87dee5-375b-4c87-dcdd-895d4a3bff4a"
      },
      "execution_count": 7,
      "outputs": [
        {
          "output_type": "display_data",
          "data": {
            "text/plain": [
              "\u001b[36m╭──────────────────╮\u001b[0m\n",
              "\u001b[36m│\u001b[0m\u001b[36m \u001b[0m\u001b[1;36mDataset Metadata\u001b[0m\u001b[36m \u001b[0m\u001b[36m│\u001b[0m\n",
              "\u001b[36m╰──────────────────╯\u001b[0m\n"
            ],
            "text/html": [
              "<pre style=\"white-space:pre;overflow-x:auto;line-height:normal;font-family:Menlo,'DejaVu Sans Mono',consolas,'Courier New',monospace\"><span style=\"color: #008080; text-decoration-color: #008080\">╭──────────────────╮</span>\n",
              "<span style=\"color: #008080; text-decoration-color: #008080\">│ </span><span style=\"color: #008080; text-decoration-color: #008080; font-weight: bold\">Dataset Metadata</span><span style=\"color: #008080; text-decoration-color: #008080\"> │</span>\n",
              "<span style=\"color: #008080; text-decoration-color: #008080\">╰──────────────────╯</span>\n",
              "</pre>\n"
            ]
          },
          "metadata": {}
        },
        {
          "output_type": "display_data",
          "data": {
            "text/plain": [
              "\u001b[1m{\u001b[0m\u001b[32m'uci_id'\u001b[0m: \u001b[1;36m336\u001b[0m, \u001b[32m'name'\u001b[0m: \u001b[32m'Chronic Kidney Disease'\u001b[0m, \u001b[32m'repository_url'\u001b[0m: \n",
              "\u001b[32m'https://archive.ics.uci.edu/dataset/336/chronic+kidney+disease'\u001b[0m, \u001b[32m'data_url'\u001b[0m: \n",
              "\u001b[32m'https://archive.ics.uci.edu/static/public/336/data.csv'\u001b[0m, \u001b[32m'abstract'\u001b[0m: \u001b[32m'This dataset can be used to predict the \u001b[0m\n",
              "\u001b[32mchronic kidney disease and it can be collected from the hospital nearly 2 months of period.'\u001b[0m, \u001b[32m'area'\u001b[0m: \u001b[32m'Other'\u001b[0m, \n",
              "\u001b[32m'tasks'\u001b[0m: \u001b[1m[\u001b[0m\u001b[32m'Classification'\u001b[0m\u001b[1m]\u001b[0m, \u001b[32m'characteristics'\u001b[0m: \u001b[1m[\u001b[0m\u001b[32m'Multivariate'\u001b[0m\u001b[1m]\u001b[0m, \u001b[32m'num_instances'\u001b[0m: \u001b[1;36m400\u001b[0m, \u001b[32m'num_features'\u001b[0m: \u001b[1;36m24\u001b[0m, \n",
              "\u001b[32m'feature_types'\u001b[0m: \u001b[1m[\u001b[0m\u001b[32m'Real'\u001b[0m\u001b[1m]\u001b[0m, \u001b[32m'demographics'\u001b[0m: \u001b[1m[\u001b[0m\u001b[32m'Age'\u001b[0m\u001b[1m]\u001b[0m, \u001b[32m'target_col'\u001b[0m: \u001b[1m[\u001b[0m\u001b[32m'class'\u001b[0m\u001b[1m]\u001b[0m, \u001b[32m'index_col'\u001b[0m: \u001b[3;35mNone\u001b[0m, \n",
              "\u001b[32m'has_missing_values'\u001b[0m: \u001b[32m'yes'\u001b[0m, \u001b[32m'missing_values_symbol'\u001b[0m: \u001b[32m'NaN'\u001b[0m, \u001b[32m'year_of_dataset_creation'\u001b[0m: \u001b[1;36m2015\u001b[0m, \u001b[32m'last_updated'\u001b[0m: \u001b[32m'Mon\u001b[0m\n",
              "\u001b[32mMar 04 2024'\u001b[0m, \u001b[32m'dataset_doi'\u001b[0m: \u001b[32m'10.24432/C5G020'\u001b[0m, \u001b[32m'creators'\u001b[0m: \u001b[1m[\u001b[0m\u001b[32m'L. Rubini'\u001b[0m, \u001b[32m'P. Soundarapandian'\u001b[0m, \u001b[32m'P. Eswaran'\u001b[0m\u001b[1m]\u001b[0m, \n",
              "\u001b[32m'intro_paper'\u001b[0m: \u001b[3;35mNone\u001b[0m, \u001b[32m'additional_info'\u001b[0m: \u001b[1m{\u001b[0m\u001b[32m'summary'\u001b[0m: \u001b[32m'We use the following representation to collect the dataset\\r\\n\u001b[0m\n",
              "\u001b[32mage\\t\\t-\\tage\\t\\r\\n\\t\\t\\tbp\\t\\t-\\tblood pressure\\r\\n\\t\\t\\tsg\\t\\t-\\tspecific gravity\\r\\n\\t\\t\\tal\\t\\t-   \u001b[0m\n",
              "\u001b[32m\\talbumin\\r\\n\\t\\t\\tsu\\t\\t-\\tsugar\\r\\n\\t\\t\\trbc\\t\\t-\\tred blood cells\\r\\n\\t\\t\\tpc\\t\\t-\\tpus \u001b[0m\n",
              "\u001b[32mcell\\r\\n\\t\\t\\tpcc\\t\\t-\\tpus cell clumps\\r\\n\\t\\t\\tba\\t\\t-\\tbacteria\\r\\n\\t\\t\\tbgr\\t\\t-\\tblood glucose \u001b[0m\n",
              "\u001b[32mrandom\\r\\n\\t\\t\\tbu\\t\\t-\\tblood urea\\r\\n\\t\\t\\tsc\\t\\t-\\tserum \u001b[0m\n",
              "\u001b[32mcreatinine\\r\\n\\t\\t\\tsod\\t\\t-\\tsodium\\r\\n\\t\\t\\tpot\\t\\t-\\tpotassium\\r\\n\\t\\t\\themo\\t\\t-\\themoglobin\\r\\n\\t\\t\\tpcv\\t\\t-\\\u001b[0m\n",
              "\u001b[32mtpacked cell volume\\r\\n\\t\\t\\twc\\t\\t-\\twhite blood cell count\\r\\n\\t\\t\\trc\\t\\t-\\tred blood cell \u001b[0m\n",
              "\u001b[32mcount\\r\\n\\t\\t\\thtn\\t\\t-\\thypertension\\r\\n\\t\\t\\tdm\\t\\t-\\tdiabetes mellitus\\r\\n\\t\\t\\tcad\\t\\t-\\tcoronary artery \u001b[0m\n",
              "\u001b[32mdisease\\r\\n\\t\\t\\tappet\\t\\t-\\tappetite\\r\\n\\t\\t\\tpe\\t\\t-\\tpedal \u001b[0m\n",
              "\u001b[32medema\\r\\n\\t\\t\\tane\\t\\t-\\tanemia\\r\\n\\t\\t\\tclass\\t\\t-\\tclass\\t'\u001b[0m, \u001b[32m'purpose'\u001b[0m: \u001b[3;35mNone\u001b[0m, \u001b[32m'funded_by'\u001b[0m: \u001b[3;35mNone\u001b[0m, \n",
              "\u001b[32m'instances_represent'\u001b[0m: \u001b[3;35mNone\u001b[0m, \u001b[32m'recommended_data_splits'\u001b[0m: \u001b[3;35mNone\u001b[0m, \u001b[32m'sensitive_data'\u001b[0m: \u001b[3;35mNone\u001b[0m, \u001b[32m'preprocessing_description'\u001b[0m: \n",
              "\u001b[3;35mNone\u001b[0m, \u001b[32m'variable_info'\u001b[0m: \u001b[32m'We use 24 + class = 25 \u001b[0m\u001b[32m(\u001b[0m\u001b[32m 11  numeric ,14  nominal\u001b[0m\u001b[32m)\u001b[0m\u001b[32m\\r\\n1.Age\u001b[0m\u001b[32m(\u001b[0m\u001b[32mnumerical\u001b[0m\u001b[32m)\u001b[0m\u001b[32m\\r\\n  \\t  \\tage in \u001b[0m\n",
              "\u001b[32myears\\r\\n \\t2.Blood Pressure\u001b[0m\u001b[32m(\u001b[0m\u001b[32mnumerical\u001b[0m\u001b[32m)\u001b[0m\u001b[32m\\r\\n\\t       \\tbp in mm/Hg\\r\\n \\t3.Specific Gravity\u001b[0m\u001b[32m(\u001b[0m\u001b[32mnominal\u001b[0m\u001b[32m)\u001b[0m\u001b[32m\\r\\n\\t  \\tsg - \u001b[0m\n",
              "\u001b[32m(\u001b[0m\u001b[32m1.005,1.010,1.015,1.020,1.025\u001b[0m\u001b[32m)\u001b[0m\u001b[32m\\r\\n \\t4.Albumin\u001b[0m\u001b[32m(\u001b[0m\u001b[32mnominal\u001b[0m\u001b[32m)\u001b[0m\u001b[32m\\r\\n\\t\\tal - \u001b[0m\u001b[32m(\u001b[0m\u001b[32m0,1,2,3,4,5\u001b[0m\u001b[32m)\u001b[0m\u001b[32m\\r\\n \\t5.Sugar\u001b[0m\u001b[32m(\u001b[0m\u001b[32mnominal\u001b[0m\u001b[32m)\u001b[0m\u001b[32m\\r\\n\\t\\tsu\u001b[0m\n",
              "\u001b[32m- \u001b[0m\u001b[32m(\u001b[0m\u001b[32m0,1,2,3,4,5\u001b[0m\u001b[32m)\u001b[0m\u001b[32m\\r\\n \\t6.Red Blood Cells\u001b[0m\u001b[32m(\u001b[0m\u001b[32mnominal\u001b[0m\u001b[32m)\u001b[0m\u001b[32m\\r\\n\\t\\trbc - \u001b[0m\u001b[32m(\u001b[0m\u001b[32mnormal,abnormal\u001b[0m\u001b[32m)\u001b[0m\u001b[32m\\r\\n \\t7.Pus Cell \u001b[0m\n",
              "\u001b[32m(\u001b[0m\u001b[32mnominal\u001b[0m\u001b[32m)\u001b[0m\u001b[32m\\r\\n\\t\\tpc - \u001b[0m\u001b[32m(\u001b[0m\u001b[32mnormal,abnormal\u001b[0m\u001b[32m)\u001b[0m\u001b[32m\\r\\n \\t8.Pus Cell clumps\u001b[0m\u001b[32m(\u001b[0m\u001b[32mnominal\u001b[0m\u001b[32m)\u001b[0m\u001b[32m\\r\\n\\t\\tpcc - \u001b[0m\u001b[32m(\u001b[0m\u001b[32mpresent,notpresent\u001b[0m\u001b[32m)\u001b[0m\u001b[32m\\r\\n \u001b[0m\n",
              "\u001b[32m\\t9.Bacteria\u001b[0m\u001b[32m(\u001b[0m\u001b[32mnominal\u001b[0m\u001b[32m)\u001b[0m\u001b[32m\\r\\n\\t\\tba  - \u001b[0m\u001b[32m(\u001b[0m\u001b[32mpresent,notpresent\u001b[0m\u001b[32m)\u001b[0m\u001b[32m\\r\\n \\t10.Blood Glucose Random\u001b[0m\u001b[32m(\u001b[0m\u001b[32mnumerical\u001b[0m\u001b[32m)\u001b[0m\u001b[32m\\t\\t\\r\\n\\t\\tbgr in \u001b[0m\n",
              "\u001b[32mmgs/dl\\r\\n \\t11.Blood Urea\u001b[0m\u001b[32m(\u001b[0m\u001b[32mnumerical\u001b[0m\u001b[32m)\u001b[0m\u001b[32m\\t\\r\\n\\t\\tbu in mgs/dl\\r\\n \\t12.Serum Creatinine\u001b[0m\u001b[32m(\u001b[0m\u001b[32mnumerical\u001b[0m\u001b[32m)\u001b[0m\u001b[32m\\t\\r\\n\\t\\tsc in \u001b[0m\n",
              "\u001b[32mmgs/dl\\r\\n \\t13.Sodium\u001b[0m\u001b[32m(\u001b[0m\u001b[32mnumerical\u001b[0m\u001b[32m)\u001b[0m\u001b[32m\\r\\n\\t\\tsod in mEq/L\\r\\n \\t14.Potassium\u001b[0m\u001b[32m(\u001b[0m\u001b[32mnumerical\u001b[0m\u001b[32m)\u001b[0m\u001b[32m\\t\\r\\n\\t\\tpot in mEq/L\\r\\n \u001b[0m\n",
              "\u001b[32m\\t15.Hemoglobin\u001b[0m\u001b[32m(\u001b[0m\u001b[32mnumerical\u001b[0m\u001b[32m)\u001b[0m\u001b[32m\\r\\n\\t\\themo in gms\\r\\n \\t16.Packed  Cell Volume\u001b[0m\u001b[32m(\u001b[0m\u001b[32mnumerical\u001b[0m\u001b[32m)\u001b[0m\u001b[32m\\r\\n \\t17.White Blood Cell \u001b[0m\n",
              "\u001b[32mCount\u001b[0m\u001b[32m(\u001b[0m\u001b[32mnumerical\u001b[0m\u001b[32m)\u001b[0m\u001b[32m\\r\\n\\t\\twc in cells/cumm\\r\\n \\t18.Red Blood Cell Count\u001b[0m\u001b[32m(\u001b[0m\u001b[32mnumerical\u001b[0m\u001b[32m)\u001b[0m\u001b[32m\\t\\r\\n\\t\\trc in millions/cmm\\r\\n \u001b[0m\n",
              "\u001b[32m\\t19.Hypertension\u001b[0m\u001b[32m(\u001b[0m\u001b[32mnominal\u001b[0m\u001b[32m)\u001b[0m\u001b[32m\\t\\r\\n\\t\\thtn - \u001b[0m\u001b[32m(\u001b[0m\u001b[32myes,no\u001b[0m\u001b[32m)\u001b[0m\u001b[32m\\r\\n \\t20.Diabetes Mellitus\u001b[0m\u001b[32m(\u001b[0m\u001b[32mnominal\u001b[0m\u001b[32m)\u001b[0m\u001b[32m\\t\\r\\n\\t\\tdm - \u001b[0m\u001b[32m(\u001b[0m\u001b[32myes,no\u001b[0m\u001b[32m)\u001b[0m\u001b[32m\\r\\n \u001b[0m\n",
              "\u001b[32m\\t21.Coronary Artery Disease\u001b[0m\u001b[32m(\u001b[0m\u001b[32mnominal\u001b[0m\u001b[32m)\u001b[0m\u001b[32m\\r\\n\\t\\tcad - \u001b[0m\u001b[32m(\u001b[0m\u001b[32myes,no\u001b[0m\u001b[32m)\u001b[0m\u001b[32m\\r\\n \\t22.Appetite\u001b[0m\u001b[32m(\u001b[0m\u001b[32mnominal\u001b[0m\u001b[32m)\u001b[0m\u001b[32m\\t\\r\\n\\t\\tappet - \u001b[0m\n",
              "\u001b[32m(\u001b[0m\u001b[32mgood,poor\u001b[0m\u001b[32m)\u001b[0m\u001b[32m\\r\\n \\t23.Pedal Edema\u001b[0m\u001b[32m(\u001b[0m\u001b[32mnominal\u001b[0m\u001b[32m)\u001b[0m\u001b[32m\\r\\n\\t\\tpe - \u001b[0m\u001b[32m(\u001b[0m\u001b[32myes,no\u001b[0m\u001b[32m)\u001b[0m\u001b[32m\\t\\r\\n \\t24.Anemia\u001b[0m\u001b[32m(\u001b[0m\u001b[32mnominal\u001b[0m\u001b[32m)\u001b[0m\u001b[32m\\r\\n\\t\\tane - \u001b[0m\u001b[32m(\u001b[0m\u001b[32myes,no\u001b[0m\u001b[32m)\u001b[0m\u001b[32m\\r\\n\u001b[0m\n",
              "\u001b[32m\\t25.Class \u001b[0m\u001b[32m(\u001b[0m\u001b[32mnominal\u001b[0m\u001b[32m)\u001b[0m\u001b[32m\\t\\t\\r\\n\\t\\tclass - \u001b[0m\u001b[32m(\u001b[0m\u001b[32mckd,notckd\u001b[0m\u001b[32m)\u001b[0m\u001b[32m'\u001b[0m, \u001b[32m'citation'\u001b[0m: \u001b[3;35mNone\u001b[0m\u001b[1m}\u001b[0m\u001b[1m}\u001b[0m\n"
            ],
            "text/html": [
              "<pre style=\"white-space:pre;overflow-x:auto;line-height:normal;font-family:Menlo,'DejaVu Sans Mono',consolas,'Courier New',monospace\"><span style=\"font-weight: bold\">{</span><span style=\"color: #008000; text-decoration-color: #008000\">'uci_id'</span>: <span style=\"color: #008080; text-decoration-color: #008080; font-weight: bold\">336</span>, <span style=\"color: #008000; text-decoration-color: #008000\">'name'</span>: <span style=\"color: #008000; text-decoration-color: #008000\">'Chronic Kidney Disease'</span>, <span style=\"color: #008000; text-decoration-color: #008000\">'repository_url'</span>: \n",
              "<span style=\"color: #008000; text-decoration-color: #008000\">'https://archive.ics.uci.edu/dataset/336/chronic+kidney+disease'</span>, <span style=\"color: #008000; text-decoration-color: #008000\">'data_url'</span>: \n",
              "<span style=\"color: #008000; text-decoration-color: #008000\">'https://archive.ics.uci.edu/static/public/336/data.csv'</span>, <span style=\"color: #008000; text-decoration-color: #008000\">'abstract'</span>: <span style=\"color: #008000; text-decoration-color: #008000\">'This dataset can be used to predict the </span>\n",
              "<span style=\"color: #008000; text-decoration-color: #008000\">chronic kidney disease and it can be collected from the hospital nearly 2 months of period.'</span>, <span style=\"color: #008000; text-decoration-color: #008000\">'area'</span>: <span style=\"color: #008000; text-decoration-color: #008000\">'Other'</span>, \n",
              "<span style=\"color: #008000; text-decoration-color: #008000\">'tasks'</span>: <span style=\"font-weight: bold\">[</span><span style=\"color: #008000; text-decoration-color: #008000\">'Classification'</span><span style=\"font-weight: bold\">]</span>, <span style=\"color: #008000; text-decoration-color: #008000\">'characteristics'</span>: <span style=\"font-weight: bold\">[</span><span style=\"color: #008000; text-decoration-color: #008000\">'Multivariate'</span><span style=\"font-weight: bold\">]</span>, <span style=\"color: #008000; text-decoration-color: #008000\">'num_instances'</span>: <span style=\"color: #008080; text-decoration-color: #008080; font-weight: bold\">400</span>, <span style=\"color: #008000; text-decoration-color: #008000\">'num_features'</span>: <span style=\"color: #008080; text-decoration-color: #008080; font-weight: bold\">24</span>, \n",
              "<span style=\"color: #008000; text-decoration-color: #008000\">'feature_types'</span>: <span style=\"font-weight: bold\">[</span><span style=\"color: #008000; text-decoration-color: #008000\">'Real'</span><span style=\"font-weight: bold\">]</span>, <span style=\"color: #008000; text-decoration-color: #008000\">'demographics'</span>: <span style=\"font-weight: bold\">[</span><span style=\"color: #008000; text-decoration-color: #008000\">'Age'</span><span style=\"font-weight: bold\">]</span>, <span style=\"color: #008000; text-decoration-color: #008000\">'target_col'</span>: <span style=\"font-weight: bold\">[</span><span style=\"color: #008000; text-decoration-color: #008000\">'class'</span><span style=\"font-weight: bold\">]</span>, <span style=\"color: #008000; text-decoration-color: #008000\">'index_col'</span>: <span style=\"color: #800080; text-decoration-color: #800080; font-style: italic\">None</span>, \n",
              "<span style=\"color: #008000; text-decoration-color: #008000\">'has_missing_values'</span>: <span style=\"color: #008000; text-decoration-color: #008000\">'yes'</span>, <span style=\"color: #008000; text-decoration-color: #008000\">'missing_values_symbol'</span>: <span style=\"color: #008000; text-decoration-color: #008000\">'NaN'</span>, <span style=\"color: #008000; text-decoration-color: #008000\">'year_of_dataset_creation'</span>: <span style=\"color: #008080; text-decoration-color: #008080; font-weight: bold\">2015</span>, <span style=\"color: #008000; text-decoration-color: #008000\">'last_updated'</span>: <span style=\"color: #008000; text-decoration-color: #008000\">'Mon</span>\n",
              "<span style=\"color: #008000; text-decoration-color: #008000\">Mar 04 2024'</span>, <span style=\"color: #008000; text-decoration-color: #008000\">'dataset_doi'</span>: <span style=\"color: #008000; text-decoration-color: #008000\">'10.24432/C5G020'</span>, <span style=\"color: #008000; text-decoration-color: #008000\">'creators'</span>: <span style=\"font-weight: bold\">[</span><span style=\"color: #008000; text-decoration-color: #008000\">'L. Rubini'</span>, <span style=\"color: #008000; text-decoration-color: #008000\">'P. Soundarapandian'</span>, <span style=\"color: #008000; text-decoration-color: #008000\">'P. Eswaran'</span><span style=\"font-weight: bold\">]</span>, \n",
              "<span style=\"color: #008000; text-decoration-color: #008000\">'intro_paper'</span>: <span style=\"color: #800080; text-decoration-color: #800080; font-style: italic\">None</span>, <span style=\"color: #008000; text-decoration-color: #008000\">'additional_info'</span>: <span style=\"font-weight: bold\">{</span><span style=\"color: #008000; text-decoration-color: #008000\">'summary'</span>: <span style=\"color: #008000; text-decoration-color: #008000\">'We use the following representation to collect the dataset\\r\\n</span>\n",
              "<span style=\"color: #008000; text-decoration-color: #008000\">age\\t\\t-\\tage\\t\\r\\n\\t\\t\\tbp\\t\\t-\\tblood pressure\\r\\n\\t\\t\\tsg\\t\\t-\\tspecific gravity\\r\\n\\t\\t\\tal\\t\\t-   </span>\n",
              "<span style=\"color: #008000; text-decoration-color: #008000\">\\talbumin\\r\\n\\t\\t\\tsu\\t\\t-\\tsugar\\r\\n\\t\\t\\trbc\\t\\t-\\tred blood cells\\r\\n\\t\\t\\tpc\\t\\t-\\tpus </span>\n",
              "<span style=\"color: #008000; text-decoration-color: #008000\">cell\\r\\n\\t\\t\\tpcc\\t\\t-\\tpus cell clumps\\r\\n\\t\\t\\tba\\t\\t-\\tbacteria\\r\\n\\t\\t\\tbgr\\t\\t-\\tblood glucose </span>\n",
              "<span style=\"color: #008000; text-decoration-color: #008000\">random\\r\\n\\t\\t\\tbu\\t\\t-\\tblood urea\\r\\n\\t\\t\\tsc\\t\\t-\\tserum </span>\n",
              "<span style=\"color: #008000; text-decoration-color: #008000\">creatinine\\r\\n\\t\\t\\tsod\\t\\t-\\tsodium\\r\\n\\t\\t\\tpot\\t\\t-\\tpotassium\\r\\n\\t\\t\\themo\\t\\t-\\themoglobin\\r\\n\\t\\t\\tpcv\\t\\t-\\</span>\n",
              "<span style=\"color: #008000; text-decoration-color: #008000\">tpacked cell volume\\r\\n\\t\\t\\twc\\t\\t-\\twhite blood cell count\\r\\n\\t\\t\\trc\\t\\t-\\tred blood cell </span>\n",
              "<span style=\"color: #008000; text-decoration-color: #008000\">count\\r\\n\\t\\t\\thtn\\t\\t-\\thypertension\\r\\n\\t\\t\\tdm\\t\\t-\\tdiabetes mellitus\\r\\n\\t\\t\\tcad\\t\\t-\\tcoronary artery </span>\n",
              "<span style=\"color: #008000; text-decoration-color: #008000\">disease\\r\\n\\t\\t\\tappet\\t\\t-\\tappetite\\r\\n\\t\\t\\tpe\\t\\t-\\tpedal </span>\n",
              "<span style=\"color: #008000; text-decoration-color: #008000\">edema\\r\\n\\t\\t\\tane\\t\\t-\\tanemia\\r\\n\\t\\t\\tclass\\t\\t-\\tclass\\t'</span>, <span style=\"color: #008000; text-decoration-color: #008000\">'purpose'</span>: <span style=\"color: #800080; text-decoration-color: #800080; font-style: italic\">None</span>, <span style=\"color: #008000; text-decoration-color: #008000\">'funded_by'</span>: <span style=\"color: #800080; text-decoration-color: #800080; font-style: italic\">None</span>, \n",
              "<span style=\"color: #008000; text-decoration-color: #008000\">'instances_represent'</span>: <span style=\"color: #800080; text-decoration-color: #800080; font-style: italic\">None</span>, <span style=\"color: #008000; text-decoration-color: #008000\">'recommended_data_splits'</span>: <span style=\"color: #800080; text-decoration-color: #800080; font-style: italic\">None</span>, <span style=\"color: #008000; text-decoration-color: #008000\">'sensitive_data'</span>: <span style=\"color: #800080; text-decoration-color: #800080; font-style: italic\">None</span>, <span style=\"color: #008000; text-decoration-color: #008000\">'preprocessing_description'</span>: \n",
              "<span style=\"color: #800080; text-decoration-color: #800080; font-style: italic\">None</span>, <span style=\"color: #008000; text-decoration-color: #008000\">'variable_info'</span>: <span style=\"color: #008000; text-decoration-color: #008000\">'We use 24 + class = 25 ( 11  numeric ,14  nominal)\\r\\n1.Age(numerical)\\r\\n  \\t  \\tage in </span>\n",
              "<span style=\"color: #008000; text-decoration-color: #008000\">years\\r\\n \\t2.Blood Pressure(numerical)\\r\\n\\t       \\tbp in mm/Hg\\r\\n \\t3.Specific Gravity(nominal)\\r\\n\\t  \\tsg - </span>\n",
              "<span style=\"color: #008000; text-decoration-color: #008000\">(1.005,1.010,1.015,1.020,1.025)\\r\\n \\t4.Albumin(nominal)\\r\\n\\t\\tal - (0,1,2,3,4,5)\\r\\n \\t5.Sugar(nominal)\\r\\n\\t\\tsu</span>\n",
              "<span style=\"color: #008000; text-decoration-color: #008000\">- (0,1,2,3,4,5)\\r\\n \\t6.Red Blood Cells(nominal)\\r\\n\\t\\trbc - (normal,abnormal)\\r\\n \\t7.Pus Cell </span>\n",
              "<span style=\"color: #008000; text-decoration-color: #008000\">(nominal)\\r\\n\\t\\tpc - (normal,abnormal)\\r\\n \\t8.Pus Cell clumps(nominal)\\r\\n\\t\\tpcc - (present,notpresent)\\r\\n </span>\n",
              "<span style=\"color: #008000; text-decoration-color: #008000\">\\t9.Bacteria(nominal)\\r\\n\\t\\tba  - (present,notpresent)\\r\\n \\t10.Blood Glucose Random(numerical)\\t\\t\\r\\n\\t\\tbgr in </span>\n",
              "<span style=\"color: #008000; text-decoration-color: #008000\">mgs/dl\\r\\n \\t11.Blood Urea(numerical)\\t\\r\\n\\t\\tbu in mgs/dl\\r\\n \\t12.Serum Creatinine(numerical)\\t\\r\\n\\t\\tsc in </span>\n",
              "<span style=\"color: #008000; text-decoration-color: #008000\">mgs/dl\\r\\n \\t13.Sodium(numerical)\\r\\n\\t\\tsod in mEq/L\\r\\n \\t14.Potassium(numerical)\\t\\r\\n\\t\\tpot in mEq/L\\r\\n </span>\n",
              "<span style=\"color: #008000; text-decoration-color: #008000\">\\t15.Hemoglobin(numerical)\\r\\n\\t\\themo in gms\\r\\n \\t16.Packed  Cell Volume(numerical)\\r\\n \\t17.White Blood Cell </span>\n",
              "<span style=\"color: #008000; text-decoration-color: #008000\">Count(numerical)\\r\\n\\t\\twc in cells/cumm\\r\\n \\t18.Red Blood Cell Count(numerical)\\t\\r\\n\\t\\trc in millions/cmm\\r\\n </span>\n",
              "<span style=\"color: #008000; text-decoration-color: #008000\">\\t19.Hypertension(nominal)\\t\\r\\n\\t\\thtn - (yes,no)\\r\\n \\t20.Diabetes Mellitus(nominal)\\t\\r\\n\\t\\tdm - (yes,no)\\r\\n </span>\n",
              "<span style=\"color: #008000; text-decoration-color: #008000\">\\t21.Coronary Artery Disease(nominal)\\r\\n\\t\\tcad - (yes,no)\\r\\n \\t22.Appetite(nominal)\\t\\r\\n\\t\\tappet - </span>\n",
              "<span style=\"color: #008000; text-decoration-color: #008000\">(good,poor)\\r\\n \\t23.Pedal Edema(nominal)\\r\\n\\t\\tpe - (yes,no)\\t\\r\\n \\t24.Anemia(nominal)\\r\\n\\t\\tane - (yes,no)\\r\\n</span>\n",
              "<span style=\"color: #008000; text-decoration-color: #008000\">\\t25.Class (nominal)\\t\\t\\r\\n\\t\\tclass - (ckd,notckd)'</span>, <span style=\"color: #008000; text-decoration-color: #008000\">'citation'</span>: <span style=\"color: #800080; text-decoration-color: #800080; font-style: italic\">None</span><span style=\"font-weight: bold\">}}</span>\n",
              "</pre>\n"
            ]
          },
          "metadata": {}
        },
        {
          "output_type": "display_data",
          "data": {
            "text/plain": [
              "\u001b[36m╭──────────────────────╮\u001b[0m\n",
              "\u001b[36m│\u001b[0m\u001b[36m \u001b[0m\u001b[1;36mVariable Information\u001b[0m\u001b[36m \u001b[0m\u001b[36m│\u001b[0m\n",
              "\u001b[36m╰──────────────────────╯\u001b[0m\n"
            ],
            "text/html": [
              "<pre style=\"white-space:pre;overflow-x:auto;line-height:normal;font-family:Menlo,'DejaVu Sans Mono',consolas,'Courier New',monospace\"><span style=\"color: #008080; text-decoration-color: #008080\">╭──────────────────────╮</span>\n",
              "<span style=\"color: #008080; text-decoration-color: #008080\">│ </span><span style=\"color: #008080; text-decoration-color: #008080; font-weight: bold\">Variable Information</span><span style=\"color: #008080; text-decoration-color: #008080\"> │</span>\n",
              "<span style=\"color: #008080; text-decoration-color: #008080\">╰──────────────────────╯</span>\n",
              "</pre>\n"
            ]
          },
          "metadata": {}
        },
        {
          "output_type": "display_data",
          "data": {
            "text/plain": [
              "┏━━━━━━━┳━━━━━━━━━┳━━━━━━━━━━━━━┳━━━━━━━━━━━━━┳━━━━━━━━━━━━━━━━━━━━━━━━━┳━━━━━━━━━━━━━━┳━━━━━━━━━━━━━━━━┓\n",
              "┃\u001b[1;35m \u001b[0m\u001b[1;35mname \u001b[0m\u001b[1;35m \u001b[0m┃\u001b[1;35m \u001b[0m\u001b[1;35mrole   \u001b[0m\u001b[1;35m \u001b[0m┃\u001b[1;35m \u001b[0m\u001b[1;35mtype       \u001b[0m\u001b[1;35m \u001b[0m┃\u001b[1;35m \u001b[0m\u001b[1;35mdemographic\u001b[0m\u001b[1;35m \u001b[0m┃\u001b[1;35m \u001b[0m\u001b[1;35mdescription            \u001b[0m\u001b[1;35m \u001b[0m┃\u001b[1;35m \u001b[0m\u001b[1;35munits       \u001b[0m\u001b[1;35m \u001b[0m┃\u001b[1;35m \u001b[0m\u001b[1;35mmissing_values\u001b[0m\u001b[1;35m \u001b[0m┃\n",
              "┡━━━━━━━╇━━━━━━━━━╇━━━━━━━━━━━━━╇━━━━━━━━━━━━━╇━━━━━━━━━━━━━━━━━━━━━━━━━╇━━━━━━━━━━━━━━╇━━━━━━━━━━━━━━━━┩\n",
              "│\u001b[2m \u001b[0m\u001b[2mage  \u001b[0m\u001b[2m \u001b[0m│\u001b[2m \u001b[0m\u001b[2mFeature\u001b[0m\u001b[2m \u001b[0m│\u001b[2m \u001b[0m\u001b[2mInteger    \u001b[0m\u001b[2m \u001b[0m│\u001b[2m \u001b[0m\u001b[2mAge        \u001b[0m\u001b[2m \u001b[0m│\u001b[2m \u001b[0m\u001b[2mNone                   \u001b[0m\u001b[2m \u001b[0m│\u001b[2m \u001b[0m\u001b[2myear        \u001b[0m\u001b[2m \u001b[0m│\u001b[2m \u001b[0m\u001b[2myes           \u001b[0m\u001b[2m \u001b[0m│\n",
              "│\u001b[2m \u001b[0m\u001b[2mbp   \u001b[0m\u001b[2m \u001b[0m│\u001b[2m \u001b[0m\u001b[2mFeature\u001b[0m\u001b[2m \u001b[0m│\u001b[2m \u001b[0m\u001b[2mInteger    \u001b[0m\u001b[2m \u001b[0m│\u001b[2m \u001b[0m\u001b[2mNone       \u001b[0m\u001b[2m \u001b[0m│\u001b[2m \u001b[0m\u001b[2mblood pressure         \u001b[0m\u001b[2m \u001b[0m│\u001b[2m \u001b[0m\u001b[2mmm/Hg       \u001b[0m\u001b[2m \u001b[0m│\u001b[2m \u001b[0m\u001b[2myes           \u001b[0m\u001b[2m \u001b[0m│\n",
              "│\u001b[2m \u001b[0m\u001b[2msg   \u001b[0m\u001b[2m \u001b[0m│\u001b[2m \u001b[0m\u001b[2mFeature\u001b[0m\u001b[2m \u001b[0m│\u001b[2m \u001b[0m\u001b[2mCategorical\u001b[0m\u001b[2m \u001b[0m│\u001b[2m \u001b[0m\u001b[2mNone       \u001b[0m\u001b[2m \u001b[0m│\u001b[2m \u001b[0m\u001b[2mspecific gravity       \u001b[0m\u001b[2m \u001b[0m│\u001b[2m \u001b[0m\u001b[2mNone        \u001b[0m\u001b[2m \u001b[0m│\u001b[2m \u001b[0m\u001b[2myes           \u001b[0m\u001b[2m \u001b[0m│\n",
              "│\u001b[2m \u001b[0m\u001b[2mal   \u001b[0m\u001b[2m \u001b[0m│\u001b[2m \u001b[0m\u001b[2mFeature\u001b[0m\u001b[2m \u001b[0m│\u001b[2m \u001b[0m\u001b[2mCategorical\u001b[0m\u001b[2m \u001b[0m│\u001b[2m \u001b[0m\u001b[2mNone       \u001b[0m\u001b[2m \u001b[0m│\u001b[2m \u001b[0m\u001b[2malbumin                \u001b[0m\u001b[2m \u001b[0m│\u001b[2m \u001b[0m\u001b[2mNone        \u001b[0m\u001b[2m \u001b[0m│\u001b[2m \u001b[0m\u001b[2myes           \u001b[0m\u001b[2m \u001b[0m│\n",
              "│\u001b[2m \u001b[0m\u001b[2msu   \u001b[0m\u001b[2m \u001b[0m│\u001b[2m \u001b[0m\u001b[2mFeature\u001b[0m\u001b[2m \u001b[0m│\u001b[2m \u001b[0m\u001b[2mCategorical\u001b[0m\u001b[2m \u001b[0m│\u001b[2m \u001b[0m\u001b[2mNone       \u001b[0m\u001b[2m \u001b[0m│\u001b[2m \u001b[0m\u001b[2msugar                  \u001b[0m\u001b[2m \u001b[0m│\u001b[2m \u001b[0m\u001b[2mNone        \u001b[0m\u001b[2m \u001b[0m│\u001b[2m \u001b[0m\u001b[2myes           \u001b[0m\u001b[2m \u001b[0m│\n",
              "│\u001b[2m \u001b[0m\u001b[2mrbc  \u001b[0m\u001b[2m \u001b[0m│\u001b[2m \u001b[0m\u001b[2mFeature\u001b[0m\u001b[2m \u001b[0m│\u001b[2m \u001b[0m\u001b[2mBinary     \u001b[0m\u001b[2m \u001b[0m│\u001b[2m \u001b[0m\u001b[2mNone       \u001b[0m\u001b[2m \u001b[0m│\u001b[2m \u001b[0m\u001b[2mred blood cells        \u001b[0m\u001b[2m \u001b[0m│\u001b[2m \u001b[0m\u001b[2mNone        \u001b[0m\u001b[2m \u001b[0m│\u001b[2m \u001b[0m\u001b[2myes           \u001b[0m\u001b[2m \u001b[0m│\n",
              "│\u001b[2m \u001b[0m\u001b[2mpc   \u001b[0m\u001b[2m \u001b[0m│\u001b[2m \u001b[0m\u001b[2mFeature\u001b[0m\u001b[2m \u001b[0m│\u001b[2m \u001b[0m\u001b[2mBinary     \u001b[0m\u001b[2m \u001b[0m│\u001b[2m \u001b[0m\u001b[2mNone       \u001b[0m\u001b[2m \u001b[0m│\u001b[2m \u001b[0m\u001b[2mpus cell               \u001b[0m\u001b[2m \u001b[0m│\u001b[2m \u001b[0m\u001b[2mNone        \u001b[0m\u001b[2m \u001b[0m│\u001b[2m \u001b[0m\u001b[2myes           \u001b[0m\u001b[2m \u001b[0m│\n",
              "│\u001b[2m \u001b[0m\u001b[2mpcc  \u001b[0m\u001b[2m \u001b[0m│\u001b[2m \u001b[0m\u001b[2mFeature\u001b[0m\u001b[2m \u001b[0m│\u001b[2m \u001b[0m\u001b[2mBinary     \u001b[0m\u001b[2m \u001b[0m│\u001b[2m \u001b[0m\u001b[2mNone       \u001b[0m\u001b[2m \u001b[0m│\u001b[2m \u001b[0m\u001b[2mpus cell clumps        \u001b[0m\u001b[2m \u001b[0m│\u001b[2m \u001b[0m\u001b[2mNone        \u001b[0m\u001b[2m \u001b[0m│\u001b[2m \u001b[0m\u001b[2myes           \u001b[0m\u001b[2m \u001b[0m│\n",
              "│\u001b[2m \u001b[0m\u001b[2mba   \u001b[0m\u001b[2m \u001b[0m│\u001b[2m \u001b[0m\u001b[2mFeature\u001b[0m\u001b[2m \u001b[0m│\u001b[2m \u001b[0m\u001b[2mBinary     \u001b[0m\u001b[2m \u001b[0m│\u001b[2m \u001b[0m\u001b[2mNone       \u001b[0m\u001b[2m \u001b[0m│\u001b[2m \u001b[0m\u001b[2mbacteria               \u001b[0m\u001b[2m \u001b[0m│\u001b[2m \u001b[0m\u001b[2mNone        \u001b[0m\u001b[2m \u001b[0m│\u001b[2m \u001b[0m\u001b[2myes           \u001b[0m\u001b[2m \u001b[0m│\n",
              "│\u001b[2m \u001b[0m\u001b[2mbgr  \u001b[0m\u001b[2m \u001b[0m│\u001b[2m \u001b[0m\u001b[2mFeature\u001b[0m\u001b[2m \u001b[0m│\u001b[2m \u001b[0m\u001b[2mInteger    \u001b[0m\u001b[2m \u001b[0m│\u001b[2m \u001b[0m\u001b[2mNone       \u001b[0m\u001b[2m \u001b[0m│\u001b[2m \u001b[0m\u001b[2mblood glucose random   \u001b[0m\u001b[2m \u001b[0m│\u001b[2m \u001b[0m\u001b[2mmgs/dl      \u001b[0m\u001b[2m \u001b[0m│\u001b[2m \u001b[0m\u001b[2myes           \u001b[0m\u001b[2m \u001b[0m│\n",
              "│\u001b[2m \u001b[0m\u001b[2mbu   \u001b[0m\u001b[2m \u001b[0m│\u001b[2m \u001b[0m\u001b[2mFeature\u001b[0m\u001b[2m \u001b[0m│\u001b[2m \u001b[0m\u001b[2mInteger    \u001b[0m\u001b[2m \u001b[0m│\u001b[2m \u001b[0m\u001b[2mNone       \u001b[0m\u001b[2m \u001b[0m│\u001b[2m \u001b[0m\u001b[2mblood urea             \u001b[0m\u001b[2m \u001b[0m│\u001b[2m \u001b[0m\u001b[2mmgs/dl      \u001b[0m\u001b[2m \u001b[0m│\u001b[2m \u001b[0m\u001b[2myes           \u001b[0m\u001b[2m \u001b[0m│\n",
              "│\u001b[2m \u001b[0m\u001b[2msc   \u001b[0m\u001b[2m \u001b[0m│\u001b[2m \u001b[0m\u001b[2mFeature\u001b[0m\u001b[2m \u001b[0m│\u001b[2m \u001b[0m\u001b[2mContinuous \u001b[0m\u001b[2m \u001b[0m│\u001b[2m \u001b[0m\u001b[2mNone       \u001b[0m\u001b[2m \u001b[0m│\u001b[2m \u001b[0m\u001b[2mserum creatinine       \u001b[0m\u001b[2m \u001b[0m│\u001b[2m \u001b[0m\u001b[2mmgs/dl      \u001b[0m\u001b[2m \u001b[0m│\u001b[2m \u001b[0m\u001b[2myes           \u001b[0m\u001b[2m \u001b[0m│\n",
              "│\u001b[2m \u001b[0m\u001b[2msod  \u001b[0m\u001b[2m \u001b[0m│\u001b[2m \u001b[0m\u001b[2mFeature\u001b[0m\u001b[2m \u001b[0m│\u001b[2m \u001b[0m\u001b[2mInteger    \u001b[0m\u001b[2m \u001b[0m│\u001b[2m \u001b[0m\u001b[2mNone       \u001b[0m\u001b[2m \u001b[0m│\u001b[2m \u001b[0m\u001b[2msodium                 \u001b[0m\u001b[2m \u001b[0m│\u001b[2m \u001b[0m\u001b[2mmEq/L       \u001b[0m\u001b[2m \u001b[0m│\u001b[2m \u001b[0m\u001b[2myes           \u001b[0m\u001b[2m \u001b[0m│\n",
              "│\u001b[2m \u001b[0m\u001b[2mpot  \u001b[0m\u001b[2m \u001b[0m│\u001b[2m \u001b[0m\u001b[2mFeature\u001b[0m\u001b[2m \u001b[0m│\u001b[2m \u001b[0m\u001b[2mContinuous \u001b[0m\u001b[2m \u001b[0m│\u001b[2m \u001b[0m\u001b[2mNone       \u001b[0m\u001b[2m \u001b[0m│\u001b[2m \u001b[0m\u001b[2mpotassium              \u001b[0m\u001b[2m \u001b[0m│\u001b[2m \u001b[0m\u001b[2mmEq/L       \u001b[0m\u001b[2m \u001b[0m│\u001b[2m \u001b[0m\u001b[2myes           \u001b[0m\u001b[2m \u001b[0m│\n",
              "│\u001b[2m \u001b[0m\u001b[2mhemo \u001b[0m\u001b[2m \u001b[0m│\u001b[2m \u001b[0m\u001b[2mFeature\u001b[0m\u001b[2m \u001b[0m│\u001b[2m \u001b[0m\u001b[2mContinuous \u001b[0m\u001b[2m \u001b[0m│\u001b[2m \u001b[0m\u001b[2mNone       \u001b[0m\u001b[2m \u001b[0m│\u001b[2m \u001b[0m\u001b[2mhemoglobin             \u001b[0m\u001b[2m \u001b[0m│\u001b[2m \u001b[0m\u001b[2mgms         \u001b[0m\u001b[2m \u001b[0m│\u001b[2m \u001b[0m\u001b[2myes           \u001b[0m\u001b[2m \u001b[0m│\n",
              "│\u001b[2m \u001b[0m\u001b[2mpcv  \u001b[0m\u001b[2m \u001b[0m│\u001b[2m \u001b[0m\u001b[2mFeature\u001b[0m\u001b[2m \u001b[0m│\u001b[2m \u001b[0m\u001b[2mInteger    \u001b[0m\u001b[2m \u001b[0m│\u001b[2m \u001b[0m\u001b[2mNone       \u001b[0m\u001b[2m \u001b[0m│\u001b[2m \u001b[0m\u001b[2mpacked cell volume     \u001b[0m\u001b[2m \u001b[0m│\u001b[2m \u001b[0m\u001b[2mNone        \u001b[0m\u001b[2m \u001b[0m│\u001b[2m \u001b[0m\u001b[2myes           \u001b[0m\u001b[2m \u001b[0m│\n",
              "│\u001b[2m \u001b[0m\u001b[2mwbcc \u001b[0m\u001b[2m \u001b[0m│\u001b[2m \u001b[0m\u001b[2mFeature\u001b[0m\u001b[2m \u001b[0m│\u001b[2m \u001b[0m\u001b[2mInteger    \u001b[0m\u001b[2m \u001b[0m│\u001b[2m \u001b[0m\u001b[2mNone       \u001b[0m\u001b[2m \u001b[0m│\u001b[2m \u001b[0m\u001b[2mwhite blood cell count \u001b[0m\u001b[2m \u001b[0m│\u001b[2m \u001b[0m\u001b[2mcells/cmm   \u001b[0m\u001b[2m \u001b[0m│\u001b[2m \u001b[0m\u001b[2myes           \u001b[0m\u001b[2m \u001b[0m│\n",
              "│\u001b[2m \u001b[0m\u001b[2mrbcc \u001b[0m\u001b[2m \u001b[0m│\u001b[2m \u001b[0m\u001b[2mFeature\u001b[0m\u001b[2m \u001b[0m│\u001b[2m \u001b[0m\u001b[2mContinuous \u001b[0m\u001b[2m \u001b[0m│\u001b[2m \u001b[0m\u001b[2mNone       \u001b[0m\u001b[2m \u001b[0m│\u001b[2m \u001b[0m\u001b[2mred blood cell count   \u001b[0m\u001b[2m \u001b[0m│\u001b[2m \u001b[0m\u001b[2mmillions/cmm\u001b[0m\u001b[2m \u001b[0m│\u001b[2m \u001b[0m\u001b[2myes           \u001b[0m\u001b[2m \u001b[0m│\n",
              "│\u001b[2m \u001b[0m\u001b[2mhtn  \u001b[0m\u001b[2m \u001b[0m│\u001b[2m \u001b[0m\u001b[2mFeature\u001b[0m\u001b[2m \u001b[0m│\u001b[2m \u001b[0m\u001b[2mBinary     \u001b[0m\u001b[2m \u001b[0m│\u001b[2m \u001b[0m\u001b[2mNone       \u001b[0m\u001b[2m \u001b[0m│\u001b[2m \u001b[0m\u001b[2mhypertension           \u001b[0m\u001b[2m \u001b[0m│\u001b[2m \u001b[0m\u001b[2mNone        \u001b[0m\u001b[2m \u001b[0m│\u001b[2m \u001b[0m\u001b[2myes           \u001b[0m\u001b[2m \u001b[0m│\n",
              "│\u001b[2m \u001b[0m\u001b[2mdm   \u001b[0m\u001b[2m \u001b[0m│\u001b[2m \u001b[0m\u001b[2mFeature\u001b[0m\u001b[2m \u001b[0m│\u001b[2m \u001b[0m\u001b[2mBinary     \u001b[0m\u001b[2m \u001b[0m│\u001b[2m \u001b[0m\u001b[2mNone       \u001b[0m\u001b[2m \u001b[0m│\u001b[2m \u001b[0m\u001b[2mdiabetes mellitus      \u001b[0m\u001b[2m \u001b[0m│\u001b[2m \u001b[0m\u001b[2mNone        \u001b[0m\u001b[2m \u001b[0m│\u001b[2m \u001b[0m\u001b[2myes           \u001b[0m\u001b[2m \u001b[0m│\n",
              "│\u001b[2m \u001b[0m\u001b[2mcad  \u001b[0m\u001b[2m \u001b[0m│\u001b[2m \u001b[0m\u001b[2mFeature\u001b[0m\u001b[2m \u001b[0m│\u001b[2m \u001b[0m\u001b[2mBinary     \u001b[0m\u001b[2m \u001b[0m│\u001b[2m \u001b[0m\u001b[2mNone       \u001b[0m\u001b[2m \u001b[0m│\u001b[2m \u001b[0m\u001b[2mcoronary artery disease\u001b[0m\u001b[2m \u001b[0m│\u001b[2m \u001b[0m\u001b[2mNone        \u001b[0m\u001b[2m \u001b[0m│\u001b[2m \u001b[0m\u001b[2myes           \u001b[0m\u001b[2m \u001b[0m│\n",
              "│\u001b[2m \u001b[0m\u001b[2mappet\u001b[0m\u001b[2m \u001b[0m│\u001b[2m \u001b[0m\u001b[2mFeature\u001b[0m\u001b[2m \u001b[0m│\u001b[2m \u001b[0m\u001b[2mBinary     \u001b[0m\u001b[2m \u001b[0m│\u001b[2m \u001b[0m\u001b[2mNone       \u001b[0m\u001b[2m \u001b[0m│\u001b[2m \u001b[0m\u001b[2mappetite               \u001b[0m\u001b[2m \u001b[0m│\u001b[2m \u001b[0m\u001b[2mNone        \u001b[0m\u001b[2m \u001b[0m│\u001b[2m \u001b[0m\u001b[2myes           \u001b[0m\u001b[2m \u001b[0m│\n",
              "│\u001b[2m \u001b[0m\u001b[2mpe   \u001b[0m\u001b[2m \u001b[0m│\u001b[2m \u001b[0m\u001b[2mFeature\u001b[0m\u001b[2m \u001b[0m│\u001b[2m \u001b[0m\u001b[2mBinary     \u001b[0m\u001b[2m \u001b[0m│\u001b[2m \u001b[0m\u001b[2mNone       \u001b[0m\u001b[2m \u001b[0m│\u001b[2m \u001b[0m\u001b[2mpedal edema            \u001b[0m\u001b[2m \u001b[0m│\u001b[2m \u001b[0m\u001b[2mNone        \u001b[0m\u001b[2m \u001b[0m│\u001b[2m \u001b[0m\u001b[2myes           \u001b[0m\u001b[2m \u001b[0m│\n",
              "│\u001b[2m \u001b[0m\u001b[2mane  \u001b[0m\u001b[2m \u001b[0m│\u001b[2m \u001b[0m\u001b[2mFeature\u001b[0m\u001b[2m \u001b[0m│\u001b[2m \u001b[0m\u001b[2mBinary     \u001b[0m\u001b[2m \u001b[0m│\u001b[2m \u001b[0m\u001b[2mNone       \u001b[0m\u001b[2m \u001b[0m│\u001b[2m \u001b[0m\u001b[2manemia                 \u001b[0m\u001b[2m \u001b[0m│\u001b[2m \u001b[0m\u001b[2mNone        \u001b[0m\u001b[2m \u001b[0m│\u001b[2m \u001b[0m\u001b[2myes           \u001b[0m\u001b[2m \u001b[0m│\n",
              "│\u001b[2m \u001b[0m\u001b[2mclass\u001b[0m\u001b[2m \u001b[0m│\u001b[2m \u001b[0m\u001b[2mTarget \u001b[0m\u001b[2m \u001b[0m│\u001b[2m \u001b[0m\u001b[2mBinary     \u001b[0m\u001b[2m \u001b[0m│\u001b[2m \u001b[0m\u001b[2mNone       \u001b[0m\u001b[2m \u001b[0m│\u001b[2m \u001b[0m\u001b[2mckd or not ckd         \u001b[0m\u001b[2m \u001b[0m│\u001b[2m \u001b[0m\u001b[2mNone        \u001b[0m\u001b[2m \u001b[0m│\u001b[2m \u001b[0m\u001b[2mno            \u001b[0m\u001b[2m \u001b[0m│\n",
              "└───────┴─────────┴─────────────┴─────────────┴─────────────────────────┴──────────────┴────────────────┘\n"
            ],
            "text/html": [
              "<pre style=\"white-space:pre;overflow-x:auto;line-height:normal;font-family:Menlo,'DejaVu Sans Mono',consolas,'Courier New',monospace\">┏━━━━━━━┳━━━━━━━━━┳━━━━━━━━━━━━━┳━━━━━━━━━━━━━┳━━━━━━━━━━━━━━━━━━━━━━━━━┳━━━━━━━━━━━━━━┳━━━━━━━━━━━━━━━━┓\n",
              "┃<span style=\"color: #800080; text-decoration-color: #800080; font-weight: bold\"> name  </span>┃<span style=\"color: #800080; text-decoration-color: #800080; font-weight: bold\"> role    </span>┃<span style=\"color: #800080; text-decoration-color: #800080; font-weight: bold\"> type        </span>┃<span style=\"color: #800080; text-decoration-color: #800080; font-weight: bold\"> demographic </span>┃<span style=\"color: #800080; text-decoration-color: #800080; font-weight: bold\"> description             </span>┃<span style=\"color: #800080; text-decoration-color: #800080; font-weight: bold\"> units        </span>┃<span style=\"color: #800080; text-decoration-color: #800080; font-weight: bold\"> missing_values </span>┃\n",
              "┡━━━━━━━╇━━━━━━━━━╇━━━━━━━━━━━━━╇━━━━━━━━━━━━━╇━━━━━━━━━━━━━━━━━━━━━━━━━╇━━━━━━━━━━━━━━╇━━━━━━━━━━━━━━━━┩\n",
              "│<span style=\"color: #7f7f7f; text-decoration-color: #7f7f7f\"> age   </span>│<span style=\"color: #7f7f7f; text-decoration-color: #7f7f7f\"> Feature </span>│<span style=\"color: #7f7f7f; text-decoration-color: #7f7f7f\"> Integer     </span>│<span style=\"color: #7f7f7f; text-decoration-color: #7f7f7f\"> Age         </span>│<span style=\"color: #7f7f7f; text-decoration-color: #7f7f7f\"> None                    </span>│<span style=\"color: #7f7f7f; text-decoration-color: #7f7f7f\"> year         </span>│<span style=\"color: #7f7f7f; text-decoration-color: #7f7f7f\"> yes            </span>│\n",
              "│<span style=\"color: #7f7f7f; text-decoration-color: #7f7f7f\"> bp    </span>│<span style=\"color: #7f7f7f; text-decoration-color: #7f7f7f\"> Feature </span>│<span style=\"color: #7f7f7f; text-decoration-color: #7f7f7f\"> Integer     </span>│<span style=\"color: #7f7f7f; text-decoration-color: #7f7f7f\"> None        </span>│<span style=\"color: #7f7f7f; text-decoration-color: #7f7f7f\"> blood pressure          </span>│<span style=\"color: #7f7f7f; text-decoration-color: #7f7f7f\"> mm/Hg        </span>│<span style=\"color: #7f7f7f; text-decoration-color: #7f7f7f\"> yes            </span>│\n",
              "│<span style=\"color: #7f7f7f; text-decoration-color: #7f7f7f\"> sg    </span>│<span style=\"color: #7f7f7f; text-decoration-color: #7f7f7f\"> Feature </span>│<span style=\"color: #7f7f7f; text-decoration-color: #7f7f7f\"> Categorical </span>│<span style=\"color: #7f7f7f; text-decoration-color: #7f7f7f\"> None        </span>│<span style=\"color: #7f7f7f; text-decoration-color: #7f7f7f\"> specific gravity        </span>│<span style=\"color: #7f7f7f; text-decoration-color: #7f7f7f\"> None         </span>│<span style=\"color: #7f7f7f; text-decoration-color: #7f7f7f\"> yes            </span>│\n",
              "│<span style=\"color: #7f7f7f; text-decoration-color: #7f7f7f\"> al    </span>│<span style=\"color: #7f7f7f; text-decoration-color: #7f7f7f\"> Feature </span>│<span style=\"color: #7f7f7f; text-decoration-color: #7f7f7f\"> Categorical </span>│<span style=\"color: #7f7f7f; text-decoration-color: #7f7f7f\"> None        </span>│<span style=\"color: #7f7f7f; text-decoration-color: #7f7f7f\"> albumin                 </span>│<span style=\"color: #7f7f7f; text-decoration-color: #7f7f7f\"> None         </span>│<span style=\"color: #7f7f7f; text-decoration-color: #7f7f7f\"> yes            </span>│\n",
              "│<span style=\"color: #7f7f7f; text-decoration-color: #7f7f7f\"> su    </span>│<span style=\"color: #7f7f7f; text-decoration-color: #7f7f7f\"> Feature </span>│<span style=\"color: #7f7f7f; text-decoration-color: #7f7f7f\"> Categorical </span>│<span style=\"color: #7f7f7f; text-decoration-color: #7f7f7f\"> None        </span>│<span style=\"color: #7f7f7f; text-decoration-color: #7f7f7f\"> sugar                   </span>│<span style=\"color: #7f7f7f; text-decoration-color: #7f7f7f\"> None         </span>│<span style=\"color: #7f7f7f; text-decoration-color: #7f7f7f\"> yes            </span>│\n",
              "│<span style=\"color: #7f7f7f; text-decoration-color: #7f7f7f\"> rbc   </span>│<span style=\"color: #7f7f7f; text-decoration-color: #7f7f7f\"> Feature </span>│<span style=\"color: #7f7f7f; text-decoration-color: #7f7f7f\"> Binary      </span>│<span style=\"color: #7f7f7f; text-decoration-color: #7f7f7f\"> None        </span>│<span style=\"color: #7f7f7f; text-decoration-color: #7f7f7f\"> red blood cells         </span>│<span style=\"color: #7f7f7f; text-decoration-color: #7f7f7f\"> None         </span>│<span style=\"color: #7f7f7f; text-decoration-color: #7f7f7f\"> yes            </span>│\n",
              "│<span style=\"color: #7f7f7f; text-decoration-color: #7f7f7f\"> pc    </span>│<span style=\"color: #7f7f7f; text-decoration-color: #7f7f7f\"> Feature </span>│<span style=\"color: #7f7f7f; text-decoration-color: #7f7f7f\"> Binary      </span>│<span style=\"color: #7f7f7f; text-decoration-color: #7f7f7f\"> None        </span>│<span style=\"color: #7f7f7f; text-decoration-color: #7f7f7f\"> pus cell                </span>│<span style=\"color: #7f7f7f; text-decoration-color: #7f7f7f\"> None         </span>│<span style=\"color: #7f7f7f; text-decoration-color: #7f7f7f\"> yes            </span>│\n",
              "│<span style=\"color: #7f7f7f; text-decoration-color: #7f7f7f\"> pcc   </span>│<span style=\"color: #7f7f7f; text-decoration-color: #7f7f7f\"> Feature </span>│<span style=\"color: #7f7f7f; text-decoration-color: #7f7f7f\"> Binary      </span>│<span style=\"color: #7f7f7f; text-decoration-color: #7f7f7f\"> None        </span>│<span style=\"color: #7f7f7f; text-decoration-color: #7f7f7f\"> pus cell clumps         </span>│<span style=\"color: #7f7f7f; text-decoration-color: #7f7f7f\"> None         </span>│<span style=\"color: #7f7f7f; text-decoration-color: #7f7f7f\"> yes            </span>│\n",
              "│<span style=\"color: #7f7f7f; text-decoration-color: #7f7f7f\"> ba    </span>│<span style=\"color: #7f7f7f; text-decoration-color: #7f7f7f\"> Feature </span>│<span style=\"color: #7f7f7f; text-decoration-color: #7f7f7f\"> Binary      </span>│<span style=\"color: #7f7f7f; text-decoration-color: #7f7f7f\"> None        </span>│<span style=\"color: #7f7f7f; text-decoration-color: #7f7f7f\"> bacteria                </span>│<span style=\"color: #7f7f7f; text-decoration-color: #7f7f7f\"> None         </span>│<span style=\"color: #7f7f7f; text-decoration-color: #7f7f7f\"> yes            </span>│\n",
              "│<span style=\"color: #7f7f7f; text-decoration-color: #7f7f7f\"> bgr   </span>│<span style=\"color: #7f7f7f; text-decoration-color: #7f7f7f\"> Feature </span>│<span style=\"color: #7f7f7f; text-decoration-color: #7f7f7f\"> Integer     </span>│<span style=\"color: #7f7f7f; text-decoration-color: #7f7f7f\"> None        </span>│<span style=\"color: #7f7f7f; text-decoration-color: #7f7f7f\"> blood glucose random    </span>│<span style=\"color: #7f7f7f; text-decoration-color: #7f7f7f\"> mgs/dl       </span>│<span style=\"color: #7f7f7f; text-decoration-color: #7f7f7f\"> yes            </span>│\n",
              "│<span style=\"color: #7f7f7f; text-decoration-color: #7f7f7f\"> bu    </span>│<span style=\"color: #7f7f7f; text-decoration-color: #7f7f7f\"> Feature </span>│<span style=\"color: #7f7f7f; text-decoration-color: #7f7f7f\"> Integer     </span>│<span style=\"color: #7f7f7f; text-decoration-color: #7f7f7f\"> None        </span>│<span style=\"color: #7f7f7f; text-decoration-color: #7f7f7f\"> blood urea              </span>│<span style=\"color: #7f7f7f; text-decoration-color: #7f7f7f\"> mgs/dl       </span>│<span style=\"color: #7f7f7f; text-decoration-color: #7f7f7f\"> yes            </span>│\n",
              "│<span style=\"color: #7f7f7f; text-decoration-color: #7f7f7f\"> sc    </span>│<span style=\"color: #7f7f7f; text-decoration-color: #7f7f7f\"> Feature </span>│<span style=\"color: #7f7f7f; text-decoration-color: #7f7f7f\"> Continuous  </span>│<span style=\"color: #7f7f7f; text-decoration-color: #7f7f7f\"> None        </span>│<span style=\"color: #7f7f7f; text-decoration-color: #7f7f7f\"> serum creatinine        </span>│<span style=\"color: #7f7f7f; text-decoration-color: #7f7f7f\"> mgs/dl       </span>│<span style=\"color: #7f7f7f; text-decoration-color: #7f7f7f\"> yes            </span>│\n",
              "│<span style=\"color: #7f7f7f; text-decoration-color: #7f7f7f\"> sod   </span>│<span style=\"color: #7f7f7f; text-decoration-color: #7f7f7f\"> Feature </span>│<span style=\"color: #7f7f7f; text-decoration-color: #7f7f7f\"> Integer     </span>│<span style=\"color: #7f7f7f; text-decoration-color: #7f7f7f\"> None        </span>│<span style=\"color: #7f7f7f; text-decoration-color: #7f7f7f\"> sodium                  </span>│<span style=\"color: #7f7f7f; text-decoration-color: #7f7f7f\"> mEq/L        </span>│<span style=\"color: #7f7f7f; text-decoration-color: #7f7f7f\"> yes            </span>│\n",
              "│<span style=\"color: #7f7f7f; text-decoration-color: #7f7f7f\"> pot   </span>│<span style=\"color: #7f7f7f; text-decoration-color: #7f7f7f\"> Feature </span>│<span style=\"color: #7f7f7f; text-decoration-color: #7f7f7f\"> Continuous  </span>│<span style=\"color: #7f7f7f; text-decoration-color: #7f7f7f\"> None        </span>│<span style=\"color: #7f7f7f; text-decoration-color: #7f7f7f\"> potassium               </span>│<span style=\"color: #7f7f7f; text-decoration-color: #7f7f7f\"> mEq/L        </span>│<span style=\"color: #7f7f7f; text-decoration-color: #7f7f7f\"> yes            </span>│\n",
              "│<span style=\"color: #7f7f7f; text-decoration-color: #7f7f7f\"> hemo  </span>│<span style=\"color: #7f7f7f; text-decoration-color: #7f7f7f\"> Feature </span>│<span style=\"color: #7f7f7f; text-decoration-color: #7f7f7f\"> Continuous  </span>│<span style=\"color: #7f7f7f; text-decoration-color: #7f7f7f\"> None        </span>│<span style=\"color: #7f7f7f; text-decoration-color: #7f7f7f\"> hemoglobin              </span>│<span style=\"color: #7f7f7f; text-decoration-color: #7f7f7f\"> gms          </span>│<span style=\"color: #7f7f7f; text-decoration-color: #7f7f7f\"> yes            </span>│\n",
              "│<span style=\"color: #7f7f7f; text-decoration-color: #7f7f7f\"> pcv   </span>│<span style=\"color: #7f7f7f; text-decoration-color: #7f7f7f\"> Feature </span>│<span style=\"color: #7f7f7f; text-decoration-color: #7f7f7f\"> Integer     </span>│<span style=\"color: #7f7f7f; text-decoration-color: #7f7f7f\"> None        </span>│<span style=\"color: #7f7f7f; text-decoration-color: #7f7f7f\"> packed cell volume      </span>│<span style=\"color: #7f7f7f; text-decoration-color: #7f7f7f\"> None         </span>│<span style=\"color: #7f7f7f; text-decoration-color: #7f7f7f\"> yes            </span>│\n",
              "│<span style=\"color: #7f7f7f; text-decoration-color: #7f7f7f\"> wbcc  </span>│<span style=\"color: #7f7f7f; text-decoration-color: #7f7f7f\"> Feature </span>│<span style=\"color: #7f7f7f; text-decoration-color: #7f7f7f\"> Integer     </span>│<span style=\"color: #7f7f7f; text-decoration-color: #7f7f7f\"> None        </span>│<span style=\"color: #7f7f7f; text-decoration-color: #7f7f7f\"> white blood cell count  </span>│<span style=\"color: #7f7f7f; text-decoration-color: #7f7f7f\"> cells/cmm    </span>│<span style=\"color: #7f7f7f; text-decoration-color: #7f7f7f\"> yes            </span>│\n",
              "│<span style=\"color: #7f7f7f; text-decoration-color: #7f7f7f\"> rbcc  </span>│<span style=\"color: #7f7f7f; text-decoration-color: #7f7f7f\"> Feature </span>│<span style=\"color: #7f7f7f; text-decoration-color: #7f7f7f\"> Continuous  </span>│<span style=\"color: #7f7f7f; text-decoration-color: #7f7f7f\"> None        </span>│<span style=\"color: #7f7f7f; text-decoration-color: #7f7f7f\"> red blood cell count    </span>│<span style=\"color: #7f7f7f; text-decoration-color: #7f7f7f\"> millions/cmm </span>│<span style=\"color: #7f7f7f; text-decoration-color: #7f7f7f\"> yes            </span>│\n",
              "│<span style=\"color: #7f7f7f; text-decoration-color: #7f7f7f\"> htn   </span>│<span style=\"color: #7f7f7f; text-decoration-color: #7f7f7f\"> Feature </span>│<span style=\"color: #7f7f7f; text-decoration-color: #7f7f7f\"> Binary      </span>│<span style=\"color: #7f7f7f; text-decoration-color: #7f7f7f\"> None        </span>│<span style=\"color: #7f7f7f; text-decoration-color: #7f7f7f\"> hypertension            </span>│<span style=\"color: #7f7f7f; text-decoration-color: #7f7f7f\"> None         </span>│<span style=\"color: #7f7f7f; text-decoration-color: #7f7f7f\"> yes            </span>│\n",
              "│<span style=\"color: #7f7f7f; text-decoration-color: #7f7f7f\"> dm    </span>│<span style=\"color: #7f7f7f; text-decoration-color: #7f7f7f\"> Feature </span>│<span style=\"color: #7f7f7f; text-decoration-color: #7f7f7f\"> Binary      </span>│<span style=\"color: #7f7f7f; text-decoration-color: #7f7f7f\"> None        </span>│<span style=\"color: #7f7f7f; text-decoration-color: #7f7f7f\"> diabetes mellitus       </span>│<span style=\"color: #7f7f7f; text-decoration-color: #7f7f7f\"> None         </span>│<span style=\"color: #7f7f7f; text-decoration-color: #7f7f7f\"> yes            </span>│\n",
              "│<span style=\"color: #7f7f7f; text-decoration-color: #7f7f7f\"> cad   </span>│<span style=\"color: #7f7f7f; text-decoration-color: #7f7f7f\"> Feature </span>│<span style=\"color: #7f7f7f; text-decoration-color: #7f7f7f\"> Binary      </span>│<span style=\"color: #7f7f7f; text-decoration-color: #7f7f7f\"> None        </span>│<span style=\"color: #7f7f7f; text-decoration-color: #7f7f7f\"> coronary artery disease </span>│<span style=\"color: #7f7f7f; text-decoration-color: #7f7f7f\"> None         </span>│<span style=\"color: #7f7f7f; text-decoration-color: #7f7f7f\"> yes            </span>│\n",
              "│<span style=\"color: #7f7f7f; text-decoration-color: #7f7f7f\"> appet </span>│<span style=\"color: #7f7f7f; text-decoration-color: #7f7f7f\"> Feature </span>│<span style=\"color: #7f7f7f; text-decoration-color: #7f7f7f\"> Binary      </span>│<span style=\"color: #7f7f7f; text-decoration-color: #7f7f7f\"> None        </span>│<span style=\"color: #7f7f7f; text-decoration-color: #7f7f7f\"> appetite                </span>│<span style=\"color: #7f7f7f; text-decoration-color: #7f7f7f\"> None         </span>│<span style=\"color: #7f7f7f; text-decoration-color: #7f7f7f\"> yes            </span>│\n",
              "│<span style=\"color: #7f7f7f; text-decoration-color: #7f7f7f\"> pe    </span>│<span style=\"color: #7f7f7f; text-decoration-color: #7f7f7f\"> Feature </span>│<span style=\"color: #7f7f7f; text-decoration-color: #7f7f7f\"> Binary      </span>│<span style=\"color: #7f7f7f; text-decoration-color: #7f7f7f\"> None        </span>│<span style=\"color: #7f7f7f; text-decoration-color: #7f7f7f\"> pedal edema             </span>│<span style=\"color: #7f7f7f; text-decoration-color: #7f7f7f\"> None         </span>│<span style=\"color: #7f7f7f; text-decoration-color: #7f7f7f\"> yes            </span>│\n",
              "│<span style=\"color: #7f7f7f; text-decoration-color: #7f7f7f\"> ane   </span>│<span style=\"color: #7f7f7f; text-decoration-color: #7f7f7f\"> Feature </span>│<span style=\"color: #7f7f7f; text-decoration-color: #7f7f7f\"> Binary      </span>│<span style=\"color: #7f7f7f; text-decoration-color: #7f7f7f\"> None        </span>│<span style=\"color: #7f7f7f; text-decoration-color: #7f7f7f\"> anemia                  </span>│<span style=\"color: #7f7f7f; text-decoration-color: #7f7f7f\"> None         </span>│<span style=\"color: #7f7f7f; text-decoration-color: #7f7f7f\"> yes            </span>│\n",
              "│<span style=\"color: #7f7f7f; text-decoration-color: #7f7f7f\"> class </span>│<span style=\"color: #7f7f7f; text-decoration-color: #7f7f7f\"> Target  </span>│<span style=\"color: #7f7f7f; text-decoration-color: #7f7f7f\"> Binary      </span>│<span style=\"color: #7f7f7f; text-decoration-color: #7f7f7f\"> None        </span>│<span style=\"color: #7f7f7f; text-decoration-color: #7f7f7f\"> ckd or not ckd          </span>│<span style=\"color: #7f7f7f; text-decoration-color: #7f7f7f\"> None         </span>│<span style=\"color: #7f7f7f; text-decoration-color: #7f7f7f\"> no             </span>│\n",
              "└───────┴─────────┴─────────────┴─────────────┴─────────────────────────┴──────────────┴────────────────┘\n",
              "</pre>\n"
            ]
          },
          "metadata": {}
        },
        {
          "output_type": "display_data",
          "data": {
            "text/plain": [
              "╭────────────────╮\n",
              "│ \u001b[1;32mAccuracy: 0.99\u001b[0m │\n",
              "╰────────────────╯\n"
            ],
            "text/html": [
              "<pre style=\"white-space:pre;overflow-x:auto;line-height:normal;font-family:Menlo,'DejaVu Sans Mono',consolas,'Courier New',monospace\">╭────────────────╮\n",
              "│ <span style=\"color: #008000; text-decoration-color: #008000; font-weight: bold\">Accuracy: 0.99</span> │\n",
              "╰────────────────╯\n",
              "</pre>\n"
            ]
          },
          "metadata": {}
        },
        {
          "output_type": "display_data",
          "data": {
            "text/plain": [
              "\u001b[36m╭───────────────────────╮\u001b[0m\n",
              "\u001b[36m│\u001b[0m\u001b[36m \u001b[0m\u001b[1;36mClassification Report\u001b[0m\u001b[36m \u001b[0m\u001b[36m│\u001b[0m\n",
              "\u001b[36m╰───────────────────────╯\u001b[0m\n"
            ],
            "text/html": [
              "<pre style=\"white-space:pre;overflow-x:auto;line-height:normal;font-family:Menlo,'DejaVu Sans Mono',consolas,'Courier New',monospace\"><span style=\"color: #008080; text-decoration-color: #008080\">╭───────────────────────╮</span>\n",
              "<span style=\"color: #008080; text-decoration-color: #008080\">│ </span><span style=\"color: #008080; text-decoration-color: #008080; font-weight: bold\">Classification Report</span><span style=\"color: #008080; text-decoration-color: #008080\"> │</span>\n",
              "<span style=\"color: #008080; text-decoration-color: #008080\">╰───────────────────────╯</span>\n",
              "</pre>\n"
            ]
          },
          "metadata": {}
        },
        {
          "output_type": "display_data",
          "data": {
            "text/plain": [
              "┏━━━━━━━━┳━━━━━━━━━━━┳━━━━━━━━┳━━━━━━━━━━┳━━━━━━━━━┓\n",
              "┃\u001b[1;35m \u001b[0m\u001b[1;35mClass \u001b[0m\u001b[1;35m \u001b[0m┃\u001b[1;35m \u001b[0m\u001b[1;35mPrecision\u001b[0m\u001b[1;35m \u001b[0m┃\u001b[1;35m \u001b[0m\u001b[1;35mRecall\u001b[0m\u001b[1;35m \u001b[0m┃\u001b[1;35m \u001b[0m\u001b[1;35mF1-score\u001b[0m\u001b[1;35m \u001b[0m┃\u001b[1;35m \u001b[0m\u001b[1;35mSupport\u001b[0m\u001b[1;35m \u001b[0m┃\n",
              "┡━━━━━━━━╇━━━━━━━━━━━╇━━━━━━━━╇━━━━━━━━━━╇━━━━━━━━━┩\n",
              "│\u001b[2m \u001b[0m\u001b[2mckd   \u001b[0m\u001b[2m \u001b[0m│\u001b[2m \u001b[0m\u001b[2m0.98     \u001b[0m\u001b[2m \u001b[0m│\u001b[2m \u001b[0m\u001b[2m1.00  \u001b[0m\u001b[2m \u001b[0m│\u001b[2m \u001b[0m\u001b[2m0.99    \u001b[0m\u001b[2m \u001b[0m│\u001b[2m \u001b[0m\u001b[2m52.0   \u001b[0m\u001b[2m \u001b[0m│\n",
              "│\u001b[2m \u001b[0m\u001b[2mnotckd\u001b[0m\u001b[2m \u001b[0m│\u001b[2m \u001b[0m\u001b[2m1.00     \u001b[0m\u001b[2m \u001b[0m│\u001b[2m \u001b[0m\u001b[2m0.96  \u001b[0m\u001b[2m \u001b[0m│\u001b[2m \u001b[0m\u001b[2m0.98    \u001b[0m\u001b[2m \u001b[0m│\u001b[2m \u001b[0m\u001b[2m28.0   \u001b[0m\u001b[2m \u001b[0m│\n",
              "└────────┴───────────┴────────┴──────────┴─────────┘\n"
            ],
            "text/html": [
              "<pre style=\"white-space:pre;overflow-x:auto;line-height:normal;font-family:Menlo,'DejaVu Sans Mono',consolas,'Courier New',monospace\">┏━━━━━━━━┳━━━━━━━━━━━┳━━━━━━━━┳━━━━━━━━━━┳━━━━━━━━━┓\n",
              "┃<span style=\"color: #800080; text-decoration-color: #800080; font-weight: bold\"> Class  </span>┃<span style=\"color: #800080; text-decoration-color: #800080; font-weight: bold\"> Precision </span>┃<span style=\"color: #800080; text-decoration-color: #800080; font-weight: bold\"> Recall </span>┃<span style=\"color: #800080; text-decoration-color: #800080; font-weight: bold\"> F1-score </span>┃<span style=\"color: #800080; text-decoration-color: #800080; font-weight: bold\"> Support </span>┃\n",
              "┡━━━━━━━━╇━━━━━━━━━━━╇━━━━━━━━╇━━━━━━━━━━╇━━━━━━━━━┩\n",
              "│<span style=\"color: #7f7f7f; text-decoration-color: #7f7f7f\"> ckd    </span>│<span style=\"color: #7f7f7f; text-decoration-color: #7f7f7f\"> 0.98      </span>│<span style=\"color: #7f7f7f; text-decoration-color: #7f7f7f\"> 1.00   </span>│<span style=\"color: #7f7f7f; text-decoration-color: #7f7f7f\"> 0.99     </span>│<span style=\"color: #7f7f7f; text-decoration-color: #7f7f7f\"> 52.0    </span>│\n",
              "│<span style=\"color: #7f7f7f; text-decoration-color: #7f7f7f\"> notckd </span>│<span style=\"color: #7f7f7f; text-decoration-color: #7f7f7f\"> 1.00      </span>│<span style=\"color: #7f7f7f; text-decoration-color: #7f7f7f\"> 0.96   </span>│<span style=\"color: #7f7f7f; text-decoration-color: #7f7f7f\"> 0.98     </span>│<span style=\"color: #7f7f7f; text-decoration-color: #7f7f7f\"> 28.0    </span>│\n",
              "└────────┴───────────┴────────┴──────────┴─────────┘\n",
              "</pre>\n"
            ]
          },
          "metadata": {}
        },
        {
          "output_type": "display_data",
          "data": {
            "text/plain": [
              "\u001b[32m╭─────────────────────────────────╮\u001b[0m\n",
              "\u001b[32m│\u001b[0m\u001b[32m \u001b[0m\u001b[1;32mDisplaying saved visualizations\u001b[0m\u001b[32m \u001b[0m\u001b[32m│\u001b[0m\n",
              "\u001b[32m╰─────────────────────────────────╯\u001b[0m\n"
            ],
            "text/html": [
              "<pre style=\"white-space:pre;overflow-x:auto;line-height:normal;font-family:Menlo,'DejaVu Sans Mono',consolas,'Courier New',monospace\"><span style=\"color: #008000; text-decoration-color: #008000\">╭─────────────────────────────────╮</span>\n",
              "<span style=\"color: #008000; text-decoration-color: #008000\">│ </span><span style=\"color: #008000; text-decoration-color: #008000; font-weight: bold\">Displaying saved visualizations</span><span style=\"color: #008000; text-decoration-color: #008000\"> │</span>\n",
              "<span style=\"color: #008000; text-decoration-color: #008000\">╰─────────────────────────────────╯</span>\n",
              "</pre>\n"
            ]
          },
          "metadata": {}
        },
        {
          "output_type": "display_data",
          "data": {
            "text/plain": [
              "\u001b[36mConfusion Matrix:\u001b[0m\n"
            ],
            "text/html": [
              "<pre style=\"white-space:pre;overflow-x:auto;line-height:normal;font-family:Menlo,'DejaVu Sans Mono',consolas,'Courier New',monospace\"><span style=\"color: #008080; text-decoration-color: #008080\">Confusion Matrix:</span>\n",
              "</pre>\n"
            ]
          },
          "metadata": {}
        },
        {
          "output_type": "display_data",
          "data": {
            "image/png": "[encoded data removed]",
            "text/plain": [
              "<IPython.core.display.Image object>"
            ]
          },
          "metadata": {}
        },
        {
          "output_type": "display_data",
          "data": {
            "text/plain": [
              "\u001b[36mFeature Importance:\u001b[0m\n"
            ],
            "text/html": [
              "<pre style=\"white-space:pre;overflow-x:auto;line-height:normal;font-family:Menlo,'DejaVu Sans Mono',consolas,'Courier New',monospace\"><span style=\"color: #008080; text-decoration-color: #008080\">Feature Importance:</span>\n",
              "</pre>\n"
            ]
          },
          "metadata": {}
        },
        {
          "output_type": "display_data",
          "data": {
            "image/png": "[encoded data removed]",
            "text/plain": [
              "<IPython.core.display.Image object>"
            ]
          },
          "metadata": {}
        }
      ]
    },
    {
      "cell_type": "code",
      "source": [
        "files.download('confusion_matrix.png')"
      ],
      "metadata": {
        "colab": {
          "base_uri": "https://localhost:8080/",
          "height": 17
        },
        "id": "NC9Ee1vJgphD",
        "outputId": "e5884dbc-1714-4535-b4ef-bdd821f78b25"
      },
      "execution_count": 8,
      "outputs": [
        {
          "output_type": "display_data",
          "data": {
            "text/plain": [
              "<IPython.core.display.Javascript object>"
            ],
            "application/javascript": [
              "\n",
              "    async function download(id, filename, size) {\n",
              "      if (!google.colab.kernel.accessAllowed) {\n",
              "        return;\n",
              "      }\n",
              "      const div = document.createElement('div');\n",
              "      const label = document.createElement('label');\n",
              "      label.textContent = `Downloading \"${filename}\": `;\n",
              "      div.appendChild(label);\n",
              "      const progress = document.createElement('progress');\n",
              "      progress.max = size;\n",
              "      div.appendChild(progress);\n",
              "      document.body.appendChild(div);\n",
              "\n",
              "      const buffers = [];\n",
              "      let downloaded = 0;\n",
              "\n",
              "      const channel = await google.colab.kernel.comms.open(id);\n",
              "      // Send a message to notify the kernel that we're ready.\n",
              "      channel.send({})\n",
              "\n",
              "      for await (const message of channel.messages) {\n",
              "        // Send a message to notify the kernel that we're ready.\n",
              "        channel.send({})\n",
              "        if (message.buffers) {\n",
              "          for (const buffer of message.buffers) {\n",
              "            buffers.push(buffer);\n",
              "            downloaded += buffer.byteLength;\n",
              "            progress.value = downloaded;\n",
              "          }\n",
              "        }\n",
              "      }\n",
              "      const blob = new Blob(buffers, {type: 'application/binary'});\n",
              "      const a = document.createElement('a');\n",
              "      a.href = window.URL.createObjectURL(blob);\n",
              "      a.download = filename;\n",
              "      div.appendChild(a);\n",
              "      a.click();\n",
              "      div.remove();\n",
              "    }\n",
              "  "
            ]
          },
          "metadata": {}
        },
        {
          "output_type": "display_data",
          "data": {
            "text/plain": [
              "<IPython.core.display.Javascript object>"
            ],
            "application/javascript": [
              "download(\"download_327508f8-47bd-489f-b945-67dafc8e496f\", \"confusion_matrix.png\", 15294)"
            ]
          },
          "metadata": {}
        },
        {
          "output_type": "display_data",
          "data": {
            "text/plain": [
              "<IPython.core.display.Javascript object>"
            ],
            "application/javascript": [
              "\n",
              "    async function download(id, filename, size) {\n",
              "      if (!google.colab.kernel.accessAllowed) {\n",
              "        return;\n",
              "      }\n",
              "      const div = document.createElement('div');\n",
              "      const label = document.createElement('label');\n",
              "      label.textContent = `Downloading \"${filename}\": `;\n",
              "      div.appendChild(label);\n",
              "      const progress = document.createElement('progress');\n",
              "      progress.max = size;\n",
              "      div.appendChild(progress);\n",
              "      document.body.appendChild(div);\n",
              "\n",
              "      const buffers = [];\n",
              "      let downloaded = 0;\n",
              "\n",
              "      const channel = await google.colab.kernel.comms.open(id);\n",
              "      // Send a message to notify the kernel that we're ready.\n",
              "      channel.send({})\n",
              "\n",
              "      for await (const message of channel.messages) {\n",
              "        // Send a message to notify the kernel that we're ready.\n",
              "        channel.send({})\n",
              "        if (message.buffers) {\n",
              "          for (const buffer of message.buffers) {\n",
              "            buffers.push(buffer);\n",
              "            downloaded += buffer.byteLength;\n",
              "            progress.value = downloaded;\n",
              "          }\n",
              "        }\n",
              "      }\n",
              "      const blob = new Blob(buffers, {type: 'application/binary'});\n",
              "      const a = document.createElement('a');\n",
              "      a.href = window.URL.createObjectURL(blob);\n",
              "      a.download = filename;\n",
              "      div.appendChild(a);\n",
              "      a.click();\n",
              "      div.remove();\n",
              "    }\n",
              "  "
            ]
          },
          "metadata": {}
        },
        {
          "output_type": "display_data",
          "data": {
            "text/plain": [
              "<IPython.core.display.Javascript object>"
            ],
            "application/javascript": [
              "download(\"download_8db89403-3d32-4946-88be-f993e1be9fb7\", \"feature_importance.png\", 28009)"
            ]
          },
          "metadata": {}
        }
      ]
    },
    {
      "cell_type": "code",
      "source": [
        "files.download('feature_importance.png')"
      ],
      "metadata": {
        "colab": {
          "base_uri": "https://localhost:8080/",
          "height": 17
        },
        "id": "81EHj6CZjdoc",
        "outputId": "d08ed20f-a60a-41a3-dc42-3604a20bdef8"
      },
      "execution_count": 9,
      "outputs": [
        {
          "output_type": "display_data",
          "data": {
            "text/plain": [
              "<IPython.core.display.Javascript object>"
            ],
            "application/javascript": [
              "\n",
              "    async function download(id, filename, size) {\n",
              "      if (!google.colab.kernel.accessAllowed) {\n",
              "        return;\n",
              "      }\n",
              "      const div = document.createElement('div');\n",
              "      const label = document.createElement('label');\n",
              "      label.textContent = `Downloading \"${filename}\": `;\n",
              "      div.appendChild(label);\n",
              "      const progress = document.createElement('progress');\n",
              "      progress.max = size;\n",
              "      div.appendChild(progress);\n",
              "      document.body.appendChild(div);\n",
              "\n",
              "      const buffers = [];\n",
              "      let downloaded = 0;\n",
              "\n",
              "      const channel = await google.colab.kernel.comms.open(id);\n",
              "      // Send a message to notify the kernel that we're ready.\n",
              "      channel.send({})\n",
              "\n",
              "      for await (const message of channel.messages) {\n",
              "        // Send a message to notify the kernel that we're ready.\n",
              "        channel.send({})\n",
              "        if (message.buffers) {\n",
              "          for (const buffer of message.buffers) {\n",
              "            buffers.push(buffer);\n",
              "            downloaded += buffer.byteLength;\n",
              "            progress.value = downloaded;\n",
              "          }\n",
              "        }\n",
              "      }\n",
              "      const blob = new Blob(buffers, {type: 'application/binary'});\n",
              "      const a = document.createElement('a');\n",
              "      a.href = window.URL.createObjectURL(blob);\n",
              "      a.download = filename;\n",
              "      div.appendChild(a);\n",
              "      a.click();\n",
              "      div.remove();\n",
              "    }\n",
              "  "
            ]
          },
          "metadata": {}
        },
        {
          "output_type": "display_data",
          "data": {
            "text/plain": [
              "<IPython.core.display.Javascript object>"
            ],
            "application/javascript": [
              "download(\"download_3a916caa-0799-42c0-812b-b3ce5f964080\", \"feature_importance.png\", 28009)"
            ]
          },
          "metadata": {}
        }
      ]
    }
  ]
}