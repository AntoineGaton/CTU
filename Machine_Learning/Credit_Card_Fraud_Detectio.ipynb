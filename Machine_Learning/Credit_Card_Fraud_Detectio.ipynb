{
  "nbformat": 4,
  "nbformat_minor": 0,
  "metadata": {
    "colab": {
      "provenance": [],
      "gpuType": "T4"
    },
    "kernelspec": {
      "name": "python3",
      "display_name": "Python 3"
    },
    "language_info": {
      "name": "python"
    },
    "accelerator": "GPU",
    "widgets": {
      "application/vnd.jupyter.widget-state+json": {
        "b7bc2f9cd2dd47a69b226a961b6e6a7e": {
          "model_module": "@jupyter-widgets/output",
          "model_name": "OutputModel",
          "model_module_version": "1.0.0",
          "state": {
            "_dom_classes": [],
            "_model_module": "@jupyter-widgets/output",
            "_model_module_version": "1.0.0",
            "_model_name": "OutputModel",
            "_view_count": null,
            "_view_module": "@jupyter-widgets/output",
            "_view_module_version": "1.0.0",
            "_view_name": "OutputView",
            "layout": "IPY_MODEL_493f0122155b49eea9c727fd9a5d744d",
            "msg_id": "",
            "outputs": [
              {
                "output_type": "display_data",
                "data": {
                  "text/plain": "\u001b[32m⠹\u001b[0m \u001b[1;32mTraining Random Forest model...\u001b[0m\n",
                  "text/html": "<pre style=\"white-space:pre;overflow-x:auto;line-height:normal;font-family:Menlo,'DejaVu Sans Mono',consolas,'Courier New',monospace\"><span style=\"color: #008000; text-decoration-color: #008000\">⠹</span> <span style=\"color: #008000; text-decoration-color: #008000; font-weight: bold\">Training Random Forest model...</span>\n</pre>\n"
                },
                "metadata": {}
              }
            ]
          }
        },
        "493f0122155b49eea9c727fd9a5d744d": {
          "model_module": "@jupyter-widgets/base",
          "model_name": "LayoutModel",
          "model_module_version": "1.2.0",
          "state": {
            "_model_module": "@jupyter-widgets/base",
            "_model_module_version": "1.2.0",
            "_model_name": "LayoutModel",
            "_view_count": null,
            "_view_module": "@jupyter-widgets/base",
            "_view_module_version": "1.2.0",
            "_view_name": "LayoutView",
            "align_content": null,
            "align_items": null,
            "align_self": null,
            "border": null,
            "bottom": null,
            "display": null,
            "flex": null,
            "flex_flow": null,
            "grid_area": null,
            "grid_auto_columns": null,
            "grid_auto_flow": null,
            "grid_auto_rows": null,
            "grid_column": null,
            "grid_gap": null,
            "grid_row": null,
            "grid_template_areas": null,
            "grid_template_columns": null,
            "grid_template_rows": null,
            "height": null,
            "justify_content": null,
            "justify_items": null,
            "left": null,
            "margin": null,
            "max_height": null,
            "max_width": null,
            "min_height": null,
            "min_width": null,
            "object_fit": null,
            "object_position": null,
            "order": null,
            "overflow": null,
            "overflow_x": null,
            "overflow_y": null,
            "padding": null,
            "right": null,
            "top": null,
            "visibility": null,
            "width": null
          }
        },
        "968b3d4211ca46189cfc1d5886f65da4": {
          "model_module": "@jupyter-widgets/output",
          "model_name": "OutputModel",
          "model_module_version": "1.0.0",
          "state": {
            "_dom_classes": [],
            "_model_module": "@jupyter-widgets/output",
            "_model_module_version": "1.0.0",
            "_model_name": "OutputModel",
            "_view_count": null,
            "_view_module": "@jupyter-widgets/output",
            "_view_module_version": "1.0.0",
            "_view_name": "OutputView",
            "layout": "IPY_MODEL_e97221e4543042f5a3ce82878d454429",
            "msg_id": "",
            "outputs": [
              {
                "output_type": "display_data",
                "data": {
                  "text/plain": "\u001b[32m⠴\u001b[0m \u001b[1;33mPerforming cross-validation...\u001b[0m\n",
                  "text/html": "<pre style=\"white-space:pre;overflow-x:auto;line-height:normal;font-family:Menlo,'DejaVu Sans Mono',consolas,'Courier New',monospace\"><span style=\"color: #008000; text-decoration-color: #008000\">⠴</span> <span style=\"color: #808000; text-decoration-color: #808000; font-weight: bold\">Performing cross-validation...</span>\n</pre>\n"
                },
                "metadata": {}
              }
            ]
          }
        },
        "e97221e4543042f5a3ce82878d454429": {
          "model_module": "@jupyter-widgets/base",
          "model_name": "LayoutModel",
          "model_module_version": "1.2.0",
          "state": {
            "_model_module": "@jupyter-widgets/base",
            "_model_module_version": "1.2.0",
            "_model_name": "LayoutModel",
            "_view_count": null,
            "_view_module": "@jupyter-widgets/base",
            "_view_module_version": "1.2.0",
            "_view_name": "LayoutView",
            "align_content": null,
            "align_items": null,
            "align_self": null,
            "border": null,
            "bottom": null,
            "display": null,
            "flex": null,
            "flex_flow": null,
            "grid_area": null,
            "grid_auto_columns": null,
            "grid_auto_flow": null,
            "grid_auto_rows": null,
            "grid_column": null,
            "grid_gap": null,
            "grid_row": null,
            "grid_template_areas": null,
            "grid_template_columns": null,
            "grid_template_rows": null,
            "height": null,
            "justify_content": null,
            "justify_items": null,
            "left": null,
            "margin": null,
            "max_height": null,
            "max_width": null,
            "min_height": null,
            "min_width": null,
            "object_fit": null,
            "object_position": null,
            "order": null,
            "overflow": null,
            "overflow_x": null,
            "overflow_y": null,
            "padding": null,
            "right": null,
            "top": null,
            "visibility": null,
            "width": null
          }
        }
      }
    }
  },
  "cells": [
    {
      "cell_type": "code",
      "source": [
        "!pip install liac-arff"
      ],
      "metadata": {
        "id": "f9qCYr5Ip-Vz",
        "colab": {
          "base_uri": "https://localhost:8080/",
          "height": 0
        },
        "outputId": "02c0fe7c-855c-4c6f-d053-ef540e1e3e97"
      },
      "execution_count": 2,
      "outputs": [
        {
          "output_type": "stream",
          "name": "stdout",
          "text": [
            "Collecting liac-arff\n",
            "  Downloading liac-arff-2.5.0.tar.gz (13 kB)\n",
            "  Preparing metadata (setup.py) ... \u001b[?25l\u001b[?25hdone\n",
            "Building wheels for collected packages: liac-arff\n",
            "  Building wheel for liac-arff (setup.py) ... \u001b[?25l\u001b[?25hdone\n",
            "  Created wheel for liac-arff: filename=liac_arff-2.5.0-py3-none-any.whl size=11716 sha256=7f30895af14fa82db6e8b5b78d42d96e0fa3cabf7a77f9c178cb2db434908368\n",
            "  Stored in directory: /root/.cache/pip/wheels/5d/2a/9c/3895d9617f8f49a0883ba686326d598e78a1c2f54fe3cae86d\n",
            "Successfully built liac-arff\n",
            "Installing collected packages: liac-arff\n",
            "Successfully installed liac-arff-2.5.0\n"
          ]
        }
      ]
    },
    {
      "cell_type": "code",
      "source": [
        "\"\"\"\n",
        "Name: Antoine Gaton\n",
        "Date: October 20, 2024\n",
        "Course: CS379\n",
        "Description: This Python script implements a credit card fraud detection system\n",
        "using a Random Forest classifier, balanced with SMOTE to handle class imbalance.\n",
        "It preprocesses and encodes the data, trains the model with cross-validation,\n",
        "and provides detailed performance metrics, including a classification report,\n",
        "confusion matrix, and visualizations.\n",
        "GitHub Repo: https://github.com/ayorgo/credit-card-fraud-detection\n",
        "\"\"\"\n",
        "\n",
        "# Import necessary libraries\n",
        "import requests\n",
        "from io import StringIO\n",
        "import pandas as pd\n",
        "import numpy as np\n",
        "from sklearn.model_selection import train_test_split\n",
        "from sklearn.ensemble import RandomForestClassifier\n",
        "from sklearn.preprocessing import StandardScaler, LabelEncoder\n",
        "from sklearn.metrics import classification_report, confusion_matrix\n",
        "import seaborn as sns\n",
        "import matplotlib.pyplot as plt\n",
        "from imblearn.over_sampling import SMOTE\n",
        "from sklearn.model_selection import cross_val_score\n",
        "from rich.console import Console\n",
        "from rich.table import Table\n",
        "from rich.panel import Panel\n",
        "from rich.progress import track\n",
        "from rich.layout import Layout\n",
        "from rich import box\n",
        "import arff\n",
        "import warnings\n",
        "warnings.filterwarnings('ignore')\n",
        "\n",
        "# Initialize Rich console\n",
        "console = Console()\n",
        "\n",
        "def load_arff_data(file_path):\n",
        "    \"\"\"\n",
        "    Load and prepare the ARFF dataset\n",
        "    Args:\n",
        "        file_path: Path to the ARFF file\n",
        "    Returns:\n",
        "        Preprocessed DataFrame\n",
        "    \"\"\"\n",
        "    with console.status(\"[bold green]Loading ARFF dataset...\") as status:\n",
        "        # Load ARFF file\n",
        "        data = arff.load(open(file_path))\n",
        "        df = pd.DataFrame(data['data'], columns=[attr[0] for attr in data['attributes']])\n",
        "\n",
        "        # Display dataset information\n",
        "        console.print(Panel(f\"Dataset Shape: {df.shape}\",\n",
        "                          title=\"Data Loading Complete\",\n",
        "                          style=\"green\"))\n",
        "        return df\n",
        "\n",
        "def preprocess_data(df):\n",
        "    \"\"\"\n",
        "    Preprocess the data including handling categorical variables\n",
        "    Args:\n",
        "        df: Input DataFrame\n",
        "    Returns:\n",
        "        Preprocessed features and labels\n",
        "    \"\"\"\n",
        "    with console.status(\"[bold yellow]Preprocessing data...\") as status:\n",
        "        # Encode categorical variables\n",
        "        le = LabelEncoder()\n",
        "        categorical_columns = df.select_dtypes(include=['object']).columns\n",
        "        for col in categorical_columns:\n",
        "            df[col] = le.fit_transform(df[col].astype(str))\n",
        "\n",
        "        # Separate features and target\n",
        "        X = df.drop('class', axis=1)\n",
        "        y = df['class']\n",
        "\n",
        "        # Scale the features\n",
        "        scaler = StandardScaler()\n",
        "        X_scaled = scaler.fit_transform(X)\n",
        "\n",
        "        # Create feature names table\n",
        "        feature_table = Table(title=\"Feature Information\", box=box.ROUNDED)\n",
        "        feature_table.add_column(\"Feature Name\", style=\"cyan\")\n",
        "        feature_table.add_column(\"Type\", style=\"magenta\")\n",
        "\n",
        "        for col in X.columns:\n",
        "            feature_table.add_row(col, str(X[col].dtype))\n",
        "\n",
        "        console.print(feature_table)\n",
        "\n",
        "        return X_scaled, y\n",
        "\n",
        "def handle_imbalance(X, y):\n",
        "    \"\"\"\n",
        "    Handle class imbalance using SMOTE\n",
        "    Args:\n",
        "        X: Feature matrix\n",
        "        y: Target vector\n",
        "    Returns:\n",
        "        Balanced feature matrix and target vector\n",
        "    \"\"\"\n",
        "    with console.status(\"[bold blue]Applying SMOTE...\") as status:\n",
        "        smote = SMOTE(random_state=42)\n",
        "        X_balanced, y_balanced = smote.fit_resample(X, y)\n",
        "\n",
        "        # Display class distribution\n",
        "        class_dist = Table(title=\"Class Distribution\", box=box.ROUNDED)\n",
        "        class_dist.add_column(\"Stage\", style=\"cyan\")\n",
        "        class_dist.add_column(\"Class 0\", style=\"green\")\n",
        "        class_dist.add_column(\"Class 1\", style=\"red\")\n",
        "\n",
        "        class_dist.add_row(\n",
        "            \"Before SMOTE\",\n",
        "            str(sum(y == 0)),\n",
        "            str(sum(y == 1))\n",
        "        )\n",
        "        class_dist.add_row(\n",
        "            \"After SMOTE\",\n",
        "            str(sum(y_balanced == 0)),\n",
        "            str(sum(y_balanced == 1))\n",
        "        )\n",
        "\n",
        "        console.print(class_dist)\n",
        "\n",
        "        return X_balanced, y_balanced\n",
        "\n",
        "def train_model(X, y):\n",
        "    \"\"\"\n",
        "    Train the Random Forest model with progress tracking\n",
        "    Args:\n",
        "        X: Feature matrix\n",
        "        y: Target vector\n",
        "    Returns:\n",
        "        Trained model and performance metrics\n",
        "    \"\"\"\n",
        "    # Split the data\n",
        "    X_train, X_test, y_train, y_test = train_test_split(\n",
        "        X, y, test_size=0.2, random_state=42\n",
        "    )\n",
        "\n",
        "    # Initialize and train model\n",
        "    rf_model = RandomForestClassifier(\n",
        "        n_estimators=100,\n",
        "        max_depth=10,\n",
        "        min_samples_split=2,\n",
        "        min_samples_leaf=1,\n",
        "        random_state=42\n",
        "    )\n",
        "\n",
        "    # Train with progress tracking\n",
        "    with console.status(\"[bold green]Training Random Forest model...\") as status:\n",
        "        rf_model.fit(X_train, y_train)\n",
        "\n",
        "    y_pred = rf_model.predict(X_test)\n",
        "\n",
        "    return rf_model, X_test, y_test, y_pred\n",
        "\n",
        "def evaluate_model(model, X_test, y_test, y_pred):\n",
        "    \"\"\"\n",
        "    Evaluate model performance with rich visualizations\n",
        "    Args:\n",
        "        model: Trained model\n",
        "        X_test: Test features\n",
        "        y_test: True labels\n",
        "        y_pred: Predicted labels\n",
        "    \"\"\"\n",
        "    # Create classification report table\n",
        "    report = classification_report(y_test, y_pred, output_dict=True)\n",
        "    report_table = Table(title=\"Classification Report\", box=box.ROUNDED)\n",
        "    report_table.add_column(\"Metric\", style=\"cyan\")\n",
        "    report_table.add_column(\"Precision\", style=\"magenta\")\n",
        "    report_table.add_column(\"Recall\", style=\"green\")\n",
        "    report_table.add_column(\"F1-Score\", style=\"yellow\")\n",
        "\n",
        "    for label in ['0', '1']:\n",
        "        report_table.add_row(\n",
        "            f\"Class {label}\",\n",
        "            f\"{report[label]['precision']:.3f}\",\n",
        "            f\"{report[label]['recall']:.3f}\",\n",
        "            f\"{report[label]['f1-score']:.3f}\"\n",
        "        )\n",
        "\n",
        "    console.print(report_table)\n",
        "\n",
        "    # Confusion matrix visualization\n",
        "    plt.figure(figsize=(8, 6))\n",
        "    cm = confusion_matrix(y_test, y_pred)\n",
        "    sns.heatmap(cm, annot=True, fmt='d', cmap='Blues')\n",
        "    plt.title('Confusion Matrix')\n",
        "    plt.ylabel('True Label')\n",
        "    plt.xlabel('Predicted Label')\n",
        "    plt.show()\n",
        "\n",
        "def main():\n",
        "    \"\"\"\n",
        "    Main function to orchestrate the fraud detection process\n",
        "    \"\"\"\n",
        "    console.print(\"[bold magenta]Credit Card Fraud Detection System[/bold magenta]\")\n",
        "\n",
        "    # Load data from the CSV URL\n",
        "    url = 'https://raw.githubusercontent.com/ayorgo/german-credit/refs/heads/master/data/german-credit.csv'\n",
        "    response = requests.get(url)\n",
        "\n",
        "    # Convert the content to a DataFrame\n",
        "    csv_data = StringIO(response.text)\n",
        "    df = pd.read_csv(csv_data)\n",
        "\n",
        "    # Preprocess data\n",
        "    X_scaled, y = preprocess_data(df)\n",
        "\n",
        "    # Handle class imbalance\n",
        "    X_balanced, y_balanced = handle_imbalance(X_scaled, y)\n",
        "\n",
        "    # Train and evaluate model\n",
        "    model, X_test, y_test, y_pred = train_model(X_balanced, y_balanced)\n",
        "\n",
        "    # Evaluate results\n",
        "    evaluate_model(model, X_test, y_test, y_pred)\n",
        "\n",
        "    # Cross-validation\n",
        "    with console.status(\"[bold yellow]Performing cross-validation...\") as status:\n",
        "        cv_scores = cross_val_score(model, X_balanced, y_balanced, cv=5)\n",
        "        cv_table = Table(title=\"Cross-Validation Results\", box=box.ROUNDED)\n",
        "        cv_table.add_column(\"Fold\", style=\"cyan\")\n",
        "        cv_table.add_column(\"Score\", style=\"green\")\n",
        "\n",
        "        for i, score in enumerate(cv_scores, 1):\n",
        "            cv_table.add_row(f\"Fold {i}\", f\"{score:.3f}\")\n",
        "\n",
        "        cv_table.add_row(\"Average\", f\"{cv_scores.mean():.3f}\")\n",
        "        console.print(cv_table)\n",
        "\n",
        "if __name__ == \"__main__\":\n",
        "    main()"
      ],
      "metadata": {
        "colab": {
          "base_uri": "https://localhost:8080/",
          "height": 1396,
          "referenced_widgets": [
            "b7bc2f9cd2dd47a69b226a961b6e6a7e",
            "493f0122155b49eea9c727fd9a5d744d",
            "968b3d4211ca46189cfc1d5886f65da4",
            "e97221e4543042f5a3ce82878d454429"
          ]
        },
        "id": "PS1mBsHi2NDX",
        "outputId": "3abdb65a-c9a9-480b-bd06-0c39ea462f08"
      },
      "execution_count": 4,
      "outputs": [
        {
          "output_type": "display_data",
          "data": {
            "text/plain": [
              "\u001b[1;35mCredit Card Fraud Detection System\u001b[0m\n"
            ],
            "text/html": [
              "<pre style=\"white-space:pre;overflow-x:auto;line-height:normal;font-family:Menlo,'DejaVu Sans Mono',consolas,'Courier New',monospace\"><span style=\"color: #800080; text-decoration-color: #800080; font-weight: bold\">Credit Card Fraud Detection System</span>\n",
              "</pre>\n"
            ]
          },
          "metadata": {}
        },
        {
          "output_type": "display_data",
          "data": {
            "text/plain": [
              "\u001b[3m       Feature Information        \u001b[0m\n",
              "╭────────────────────────┬───────╮\n",
              "│\u001b[1m \u001b[0m\u001b[1mFeature Name          \u001b[0m\u001b[1m \u001b[0m│\u001b[1m \u001b[0m\u001b[1mType \u001b[0m\u001b[1m \u001b[0m│\n",
              "├────────────────────────┼───────┤\n",
              "│\u001b[36m \u001b[0m\u001b[36mover_draft            \u001b[0m\u001b[36m \u001b[0m│\u001b[35m \u001b[0m\u001b[35mint64\u001b[0m\u001b[35m \u001b[0m│\n",
              "│\u001b[36m \u001b[0m\u001b[36mcredit_usage          \u001b[0m\u001b[36m \u001b[0m│\u001b[35m \u001b[0m\u001b[35mint64\u001b[0m\u001b[35m \u001b[0m│\n",
              "│\u001b[36m \u001b[0m\u001b[36mcredit_history        \u001b[0m\u001b[36m \u001b[0m│\u001b[35m \u001b[0m\u001b[35mint64\u001b[0m\u001b[35m \u001b[0m│\n",
              "│\u001b[36m \u001b[0m\u001b[36mpurpose               \u001b[0m\u001b[36m \u001b[0m│\u001b[35m \u001b[0m\u001b[35mint64\u001b[0m\u001b[35m \u001b[0m│\n",
              "│\u001b[36m \u001b[0m\u001b[36mcurrent_balance       \u001b[0m\u001b[36m \u001b[0m│\u001b[35m \u001b[0m\u001b[35mint64\u001b[0m\u001b[35m \u001b[0m│\n",
              "│\u001b[36m \u001b[0m\u001b[36mAverage_Credit_Balance\u001b[0m\u001b[36m \u001b[0m│\u001b[35m \u001b[0m\u001b[35mint64\u001b[0m\u001b[35m \u001b[0m│\n",
              "│\u001b[36m \u001b[0m\u001b[36memployment            \u001b[0m\u001b[36m \u001b[0m│\u001b[35m \u001b[0m\u001b[35mint64\u001b[0m\u001b[35m \u001b[0m│\n",
              "│\u001b[36m \u001b[0m\u001b[36mlocation              \u001b[0m\u001b[36m \u001b[0m│\u001b[35m \u001b[0m\u001b[35mint64\u001b[0m\u001b[35m \u001b[0m│\n",
              "│\u001b[36m \u001b[0m\u001b[36mpersonal_status       \u001b[0m\u001b[36m \u001b[0m│\u001b[35m \u001b[0m\u001b[35mint64\u001b[0m\u001b[35m \u001b[0m│\n",
              "│\u001b[36m \u001b[0m\u001b[36mother_parties         \u001b[0m\u001b[36m \u001b[0m│\u001b[35m \u001b[0m\u001b[35mint64\u001b[0m\u001b[35m \u001b[0m│\n",
              "│\u001b[36m \u001b[0m\u001b[36mresidence_since       \u001b[0m\u001b[36m \u001b[0m│\u001b[35m \u001b[0m\u001b[35mint64\u001b[0m\u001b[35m \u001b[0m│\n",
              "│\u001b[36m \u001b[0m\u001b[36mproperty_magnitude    \u001b[0m\u001b[36m \u001b[0m│\u001b[35m \u001b[0m\u001b[35mint64\u001b[0m\u001b[35m \u001b[0m│\n",
              "│\u001b[36m \u001b[0m\u001b[36mcc_age                \u001b[0m\u001b[36m \u001b[0m│\u001b[35m \u001b[0m\u001b[35mint64\u001b[0m\u001b[35m \u001b[0m│\n",
              "│\u001b[36m \u001b[0m\u001b[36mother_payment_plans   \u001b[0m\u001b[36m \u001b[0m│\u001b[35m \u001b[0m\u001b[35mint64\u001b[0m\u001b[35m \u001b[0m│\n",
              "│\u001b[36m \u001b[0m\u001b[36mhousing               \u001b[0m\u001b[36m \u001b[0m│\u001b[35m \u001b[0m\u001b[35mint64\u001b[0m\u001b[35m \u001b[0m│\n",
              "│\u001b[36m \u001b[0m\u001b[36mexisting_credits      \u001b[0m\u001b[36m \u001b[0m│\u001b[35m \u001b[0m\u001b[35mint64\u001b[0m\u001b[35m \u001b[0m│\n",
              "│\u001b[36m \u001b[0m\u001b[36mjob                   \u001b[0m\u001b[36m \u001b[0m│\u001b[35m \u001b[0m\u001b[35mint64\u001b[0m\u001b[35m \u001b[0m│\n",
              "│\u001b[36m \u001b[0m\u001b[36mnum_dependents        \u001b[0m\u001b[36m \u001b[0m│\u001b[35m \u001b[0m\u001b[35mint64\u001b[0m\u001b[35m \u001b[0m│\n",
              "│\u001b[36m \u001b[0m\u001b[36mown_telephone         \u001b[0m\u001b[36m \u001b[0m│\u001b[35m \u001b[0m\u001b[35mint64\u001b[0m\u001b[35m \u001b[0m│\n",
              "│\u001b[36m \u001b[0m\u001b[36mforeign_worker        \u001b[0m\u001b[36m \u001b[0m│\u001b[35m \u001b[0m\u001b[35mint64\u001b[0m\u001b[35m \u001b[0m│\n",
              "╰────────────────────────┴───────╯\n"
            ],
            "text/html": [
              "<pre style=\"white-space:pre;overflow-x:auto;line-height:normal;font-family:Menlo,'DejaVu Sans Mono',consolas,'Courier New',monospace\"><span style=\"font-style: italic\">       Feature Information        </span>\n",
              "╭────────────────────────┬───────╮\n",
              "│<span style=\"font-weight: bold\"> Feature Name           </span>│<span style=\"font-weight: bold\"> Type  </span>│\n",
              "├────────────────────────┼───────┤\n",
              "│<span style=\"color: #008080; text-decoration-color: #008080\"> over_draft             </span>│<span style=\"color: #800080; text-decoration-color: #800080\"> int64 </span>│\n",
              "│<span style=\"color: #008080; text-decoration-color: #008080\"> credit_usage           </span>│<span style=\"color: #800080; text-decoration-color: #800080\"> int64 </span>│\n",
              "│<span style=\"color: #008080; text-decoration-color: #008080\"> credit_history         </span>│<span style=\"color: #800080; text-decoration-color: #800080\"> int64 </span>│\n",
              "│<span style=\"color: #008080; text-decoration-color: #008080\"> purpose                </span>│<span style=\"color: #800080; text-decoration-color: #800080\"> int64 </span>│\n",
              "│<span style=\"color: #008080; text-decoration-color: #008080\"> current_balance        </span>│<span style=\"color: #800080; text-decoration-color: #800080\"> int64 </span>│\n",
              "│<span style=\"color: #008080; text-decoration-color: #008080\"> Average_Credit_Balance </span>│<span style=\"color: #800080; text-decoration-color: #800080\"> int64 </span>│\n",
              "│<span style=\"color: #008080; text-decoration-color: #008080\"> employment             </span>│<span style=\"color: #800080; text-decoration-color: #800080\"> int64 </span>│\n",
              "│<span style=\"color: #008080; text-decoration-color: #008080\"> location               </span>│<span style=\"color: #800080; text-decoration-color: #800080\"> int64 </span>│\n",
              "│<span style=\"color: #008080; text-decoration-color: #008080\"> personal_status        </span>│<span style=\"color: #800080; text-decoration-color: #800080\"> int64 </span>│\n",
              "│<span style=\"color: #008080; text-decoration-color: #008080\"> other_parties          </span>│<span style=\"color: #800080; text-decoration-color: #800080\"> int64 </span>│\n",
              "│<span style=\"color: #008080; text-decoration-color: #008080\"> residence_since        </span>│<span style=\"color: #800080; text-decoration-color: #800080\"> int64 </span>│\n",
              "│<span style=\"color: #008080; text-decoration-color: #008080\"> property_magnitude     </span>│<span style=\"color: #800080; text-decoration-color: #800080\"> int64 </span>│\n",
              "│<span style=\"color: #008080; text-decoration-color: #008080\"> cc_age                 </span>│<span style=\"color: #800080; text-decoration-color: #800080\"> int64 </span>│\n",
              "│<span style=\"color: #008080; text-decoration-color: #008080\"> other_payment_plans    </span>│<span style=\"color: #800080; text-decoration-color: #800080\"> int64 </span>│\n",
              "│<span style=\"color: #008080; text-decoration-color: #008080\"> housing                </span>│<span style=\"color: #800080; text-decoration-color: #800080\"> int64 </span>│\n",
              "│<span style=\"color: #008080; text-decoration-color: #008080\"> existing_credits       </span>│<span style=\"color: #800080; text-decoration-color: #800080\"> int64 </span>│\n",
              "│<span style=\"color: #008080; text-decoration-color: #008080\"> job                    </span>│<span style=\"color: #800080; text-decoration-color: #800080\"> int64 </span>│\n",
              "│<span style=\"color: #008080; text-decoration-color: #008080\"> num_dependents         </span>│<span style=\"color: #800080; text-decoration-color: #800080\"> int64 </span>│\n",
              "│<span style=\"color: #008080; text-decoration-color: #008080\"> own_telephone          </span>│<span style=\"color: #800080; text-decoration-color: #800080\"> int64 </span>│\n",
              "│<span style=\"color: #008080; text-decoration-color: #008080\"> foreign_worker         </span>│<span style=\"color: #800080; text-decoration-color: #800080\"> int64 </span>│\n",
              "╰────────────────────────┴───────╯\n",
              "</pre>\n"
            ]
          },
          "metadata": {}
        },
        {
          "output_type": "display_data",
          "data": {
            "text/plain": [],
            "text/html": [
              "<pre style=\"white-space:pre;overflow-x:auto;line-height:normal;font-family:Menlo,'DejaVu Sans Mono',consolas,'Courier New',monospace\"></pre>\n"
            ]
          },
          "metadata": {}
        },
        {
          "output_type": "display_data",
          "data": {
            "text/plain": [
              "\u001b[3m         Class Distribution         \u001b[0m\n",
              "╭──────────────┬─────────┬─────────╮\n",
              "│\u001b[1m \u001b[0m\u001b[1mStage       \u001b[0m\u001b[1m \u001b[0m│\u001b[1m \u001b[0m\u001b[1mClass 0\u001b[0m\u001b[1m \u001b[0m│\u001b[1m \u001b[0m\u001b[1mClass 1\u001b[0m\u001b[1m \u001b[0m│\n",
              "├──────────────┼─────────┼─────────┤\n",
              "│\u001b[36m \u001b[0m\u001b[36mBefore SMOTE\u001b[0m\u001b[36m \u001b[0m│\u001b[32m \u001b[0m\u001b[32m300    \u001b[0m\u001b[32m \u001b[0m│\u001b[31m \u001b[0m\u001b[31m700    \u001b[0m\u001b[31m \u001b[0m│\n",
              "│\u001b[36m \u001b[0m\u001b[36mAfter SMOTE \u001b[0m\u001b[36m \u001b[0m│\u001b[32m \u001b[0m\u001b[32m700    \u001b[0m\u001b[32m \u001b[0m│\u001b[31m \u001b[0m\u001b[31m700    \u001b[0m\u001b[31m \u001b[0m│\n",
              "╰──────────────┴─────────┴─────────╯\n"
            ],
            "text/html": [
              "<pre style=\"white-space:pre;overflow-x:auto;line-height:normal;font-family:Menlo,'DejaVu Sans Mono',consolas,'Courier New',monospace\"><span style=\"font-style: italic\">         Class Distribution         </span>\n",
              "╭──────────────┬─────────┬─────────╮\n",
              "│<span style=\"font-weight: bold\"> Stage        </span>│<span style=\"font-weight: bold\"> Class 0 </span>│<span style=\"font-weight: bold\"> Class 1 </span>│\n",
              "├──────────────┼─────────┼─────────┤\n",
              "│<span style=\"color: #008080; text-decoration-color: #008080\"> Before SMOTE </span>│<span style=\"color: #008000; text-decoration-color: #008000\"> 300     </span>│<span style=\"color: #800000; text-decoration-color: #800000\"> 700     </span>│\n",
              "│<span style=\"color: #008080; text-decoration-color: #008080\"> After SMOTE  </span>│<span style=\"color: #008000; text-decoration-color: #008000\"> 700     </span>│<span style=\"color: #800000; text-decoration-color: #800000\"> 700     </span>│\n",
              "╰──────────────┴─────────┴─────────╯\n",
              "</pre>\n"
            ]
          },
          "metadata": {}
        },
        {
          "output_type": "display_data",
          "data": {
            "text/plain": [],
            "text/html": [
              "<pre style=\"white-space:pre;overflow-x:auto;line-height:normal;font-family:Menlo,'DejaVu Sans Mono',consolas,'Courier New',monospace\"></pre>\n"
            ]
          },
          "metadata": {}
        },
        {
          "output_type": "display_data",
          "data": {
            "text/plain": [
              "Output()"
            ],
            "application/vnd.jupyter.widget-view+json": {
              "version_major": 2,
              "version_minor": 0,
              "model_id": "b7bc2f9cd2dd47a69b226a961b6e6a7e"
            }
          },
          "metadata": {}
        },
        {
          "output_type": "display_data",
          "data": {
            "text/plain": [],
            "text/html": [
              "<pre style=\"white-space:pre;overflow-x:auto;line-height:normal;font-family:Menlo,'DejaVu Sans Mono',consolas,'Courier New',monospace\"></pre>\n"
            ]
          },
          "metadata": {}
        },
        {
          "output_type": "display_data",
          "data": {
            "text/plain": [
              "\u001b[3m           Classification Report           \u001b[0m\n",
              "╭─────────┬───────────┬────────┬──────────╮\n",
              "│\u001b[1m \u001b[0m\u001b[1mMetric \u001b[0m\u001b[1m \u001b[0m│\u001b[1m \u001b[0m\u001b[1mPrecision\u001b[0m\u001b[1m \u001b[0m│\u001b[1m \u001b[0m\u001b[1mRecall\u001b[0m\u001b[1m \u001b[0m│\u001b[1m \u001b[0m\u001b[1mF1-Score\u001b[0m\u001b[1m \u001b[0m│\n",
              "├─────────┼───────────┼────────┼──────────┤\n",
              "│\u001b[36m \u001b[0m\u001b[36mClass 0\u001b[0m\u001b[36m \u001b[0m│\u001b[35m \u001b[0m\u001b[35m0.797    \u001b[0m\u001b[35m \u001b[0m│\u001b[32m \u001b[0m\u001b[32m0.901 \u001b[0m\u001b[32m \u001b[0m│\u001b[33m \u001b[0m\u001b[33m0.846   \u001b[0m\u001b[33m \u001b[0m│\n",
              "│\u001b[36m \u001b[0m\u001b[36mClass 1\u001b[0m\u001b[36m \u001b[0m│\u001b[35m \u001b[0m\u001b[35m0.902    \u001b[0m\u001b[35m \u001b[0m│\u001b[32m \u001b[0m\u001b[32m0.799 \u001b[0m\u001b[32m \u001b[0m│\u001b[33m \u001b[0m\u001b[33m0.847   \u001b[0m\u001b[33m \u001b[0m│\n",
              "╰─────────┴───────────┴────────┴──────────╯\n"
            ],
            "text/html": [
              "<pre style=\"white-space:pre;overflow-x:auto;line-height:normal;font-family:Menlo,'DejaVu Sans Mono',consolas,'Courier New',monospace\"><span style=\"font-style: italic\">           Classification Report           </span>\n",
              "╭─────────┬───────────┬────────┬──────────╮\n",
              "│<span style=\"font-weight: bold\"> Metric  </span>│<span style=\"font-weight: bold\"> Precision </span>│<span style=\"font-weight: bold\"> Recall </span>│<span style=\"font-weight: bold\"> F1-Score </span>│\n",
              "├─────────┼───────────┼────────┼──────────┤\n",
              "│<span style=\"color: #008080; text-decoration-color: #008080\"> Class 0 </span>│<span style=\"color: #800080; text-decoration-color: #800080\"> 0.797     </span>│<span style=\"color: #008000; text-decoration-color: #008000\"> 0.901  </span>│<span style=\"color: #808000; text-decoration-color: #808000\"> 0.846    </span>│\n",
              "│<span style=\"color: #008080; text-decoration-color: #008080\"> Class 1 </span>│<span style=\"color: #800080; text-decoration-color: #800080\"> 0.902     </span>│<span style=\"color: #008000; text-decoration-color: #008000\"> 0.799  </span>│<span style=\"color: #808000; text-decoration-color: #808000\"> 0.847    </span>│\n",
              "╰─────────┴───────────┴────────┴──────────╯\n",
              "</pre>\n"
            ]
          },
          "metadata": {}
        },
        {
          "output_type": "display_data",
          "data": {
            "text/plain": [
              "<Figure size 800x600 with 2 Axes>"
            ],
            "image/png": "[encoded data removed]"
          },
          "metadata": {}
        },
        {
          "output_type": "display_data",
          "data": {
            "text/plain": [
              "Output()"
            ],
            "application/vnd.jupyter.widget-view+json": {
              "version_major": 2,
              "version_minor": 0,
              "model_id": "968b3d4211ca46189cfc1d5886f65da4"
            }
          },
          "metadata": {}
        },
        {
          "output_type": "display_data",
          "data": {
            "text/plain": [
              "\u001b[3m Cross-Validation  \u001b[0m\n",
              "\u001b[3m      Results      \u001b[0m\n",
              "╭─────────┬───────╮\n",
              "│\u001b[1m \u001b[0m\u001b[1mFold   \u001b[0m\u001b[1m \u001b[0m│\u001b[1m \u001b[0m\u001b[1mScore\u001b[0m\u001b[1m \u001b[0m│\n",
              "├─────────┼───────┤\n",
              "│\u001b[36m \u001b[0m\u001b[36mFold 1 \u001b[0m\u001b[36m \u001b[0m│\u001b[32m \u001b[0m\u001b[32m0.732\u001b[0m\u001b[32m \u001b[0m│\n",
              "│\u001b[36m \u001b[0m\u001b[36mFold 2 \u001b[0m\u001b[36m \u001b[0m│\u001b[32m \u001b[0m\u001b[32m0.729\u001b[0m\u001b[32m \u001b[0m│\n",
              "│\u001b[36m \u001b[0m\u001b[36mFold 3 \u001b[0m\u001b[36m \u001b[0m│\u001b[32m \u001b[0m\u001b[32m0.900\u001b[0m\u001b[32m \u001b[0m│\n",
              "│\u001b[36m \u001b[0m\u001b[36mFold 4 \u001b[0m\u001b[36m \u001b[0m│\u001b[32m \u001b[0m\u001b[32m0.850\u001b[0m\u001b[32m \u001b[0m│\n",
              "│\u001b[36m \u001b[0m\u001b[36mFold 5 \u001b[0m\u001b[36m \u001b[0m│\u001b[32m \u001b[0m\u001b[32m0.893\u001b[0m\u001b[32m \u001b[0m│\n",
              "│\u001b[36m \u001b[0m\u001b[36mAverage\u001b[0m\u001b[36m \u001b[0m│\u001b[32m \u001b[0m\u001b[32m0.821\u001b[0m\u001b[32m \u001b[0m│\n",
              "╰─────────┴───────╯\n"
            ],
            "text/html": [
              "<pre style=\"white-space:pre;overflow-x:auto;line-height:normal;font-family:Menlo,'DejaVu Sans Mono',consolas,'Courier New',monospace\"><span style=\"font-style: italic\"> Cross-Validation  </span>\n",
              "<span style=\"font-style: italic\">      Results      </span>\n",
              "╭─────────┬───────╮\n",
              "│<span style=\"font-weight: bold\"> Fold    </span>│<span style=\"font-weight: bold\"> Score </span>│\n",
              "├─────────┼───────┤\n",
              "│<span style=\"color: #008080; text-decoration-color: #008080\"> Fold 1  </span>│<span style=\"color: #008000; text-decoration-color: #008000\"> 0.732 </span>│\n",
              "│<span style=\"color: #008080; text-decoration-color: #008080\"> Fold 2  </span>│<span style=\"color: #008000; text-decoration-color: #008000\"> 0.729 </span>│\n",
              "│<span style=\"color: #008080; text-decoration-color: #008080\"> Fold 3  </span>│<span style=\"color: #008000; text-decoration-color: #008000\"> 0.900 </span>│\n",
              "│<span style=\"color: #008080; text-decoration-color: #008080\"> Fold 4  </span>│<span style=\"color: #008000; text-decoration-color: #008000\"> 0.850 </span>│\n",
              "│<span style=\"color: #008080; text-decoration-color: #008080\"> Fold 5  </span>│<span style=\"color: #008000; text-decoration-color: #008000\"> 0.893 </span>│\n",
              "│<span style=\"color: #008080; text-decoration-color: #008080\"> Average </span>│<span style=\"color: #008000; text-decoration-color: #008000\"> 0.821 </span>│\n",
              "╰─────────┴───────╯\n",
              "</pre>\n"
            ]
          },
          "metadata": {}
        },
        {
          "output_type": "display_data",
          "data": {
            "text/plain": [],
            "text/html": [
              "<pre style=\"white-space:pre;overflow-x:auto;line-height:normal;font-family:Menlo,'DejaVu Sans Mono',consolas,'Courier New',monospace\"></pre>\n"
            ]
          },
          "metadata": {}
        }
      ]
    }
  ]
}